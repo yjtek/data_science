{
 "cells": [
  {
   "cell_type": "markdown",
   "metadata": {},
   "source": [
    "## Model Registry"
   ]
  },
  {
   "cell_type": "markdown",
   "metadata": {},
   "source": [
    "### Init"
   ]
  },
  {
   "cell_type": "code",
   "execution_count": 2,
   "metadata": {},
   "outputs": [
    {
     "name": "stderr",
     "output_type": "stream",
     "text": [
      "2024/12/24 11:56:21 INFO mlflow.tracking.fluent: Experiment with name 'model-registry' does not exist. Creating a new experiment.\n"
     ]
    },
    {
     "data": {
      "text/plain": [
       "<Experiment: artifact_location='mlflow-artifacts:/758777158917142144', creation_time=1735012581944, experiment_id='758777158917142144', last_update_time=1735012581944, lifecycle_stage='active', name='model-registry', tags={}>"
      ]
     },
     "execution_count": 2,
     "metadata": {},
     "output_type": "execute_result"
    }
   ],
   "source": [
    "import mlflow\n",
    "mlflow.set_tracking_uri('http://localhost:5000')\n",
    "mlflow.set_experiment('model-registry')"
   ]
  },
  {
   "cell_type": "code",
   "execution_count": 4,
   "metadata": {},
   "outputs": [],
   "source": [
    "# !uv tool run mlflow ui"
   ]
  },
  {
   "cell_type": "markdown",
   "metadata": {},
   "source": [
    "### Register model"
   ]
  },
  {
   "cell_type": "code",
   "execution_count": 3,
   "metadata": {},
   "outputs": [
    {
     "name": "stderr",
     "output_type": "stream",
     "text": [
      "2024/12/24 11:56:40 WARNING mlflow.utils.environment: Failed to resolve installed pip version. ``pip`` will be added to conda.yaml environment spec without a version specifier.\n",
      "Successfully registered model 'sk-learn-random-forest-reg-model'.\n",
      "2024/12/24 11:56:40 INFO mlflow.store.model_registry.abstract_store: Waiting up to 300 seconds for model version to finish creation. Model name: sk-learn-random-forest-reg-model, version 1\n"
     ]
    },
    {
     "name": "stdout",
     "output_type": "stream",
     "text": [
      "🏃 View run secretive-bee-975 at: http://localhost:5000/#/experiments/758777158917142144/runs/ad9524f79bc34f94a5d247da2fa236fa\n",
      "🧪 View experiment at: http://localhost:5000/#/experiments/758777158917142144\n"
     ]
    },
    {
     "name": "stderr",
     "output_type": "stream",
     "text": [
      "Created version '1' of model 'sk-learn-random-forest-reg-model'.\n"
     ]
    }
   ],
   "source": [
    "from sklearn.datasets import make_regression\n",
    "from sklearn.ensemble import RandomForestRegressor\n",
    "from sklearn.metrics import mean_squared_error\n",
    "from sklearn.model_selection import train_test_split\n",
    "\n",
    "import mlflow\n",
    "import mlflow.sklearn\n",
    "\n",
    "with mlflow.start_run() as run:\n",
    "    X, y = make_regression(n_features=4, n_informative=2, random_state=0, shuffle=False)\n",
    "    X_train, X_test, y_train, y_test = train_test_split(\n",
    "        X, y, test_size=0.2, random_state=42\n",
    "    )\n",
    "\n",
    "    params = {\"max_depth\": 2, \"random_state\": 42}\n",
    "    model = RandomForestRegressor(**params)\n",
    "    model.fit(X_train, y_train)\n",
    "\n",
    "    # Log parameters and metrics using the MLflow APIs\n",
    "    mlflow.log_params(params)\n",
    "\n",
    "    y_pred = model.predict(X_test)\n",
    "    mlflow.log_metrics({\"mse\": mean_squared_error(y_test, y_pred)})\n",
    "\n",
    "    # Log the sklearn model and register as version 1\n",
    "    mlflow.sklearn.log_model(\n",
    "        sk_model=model,\n",
    "        artifact_path=\"sklearn-model\",\n",
    "        input_example=X_train,\n",
    "        registered_model_name=\"sk-learn-random-forest-reg-model\",\n",
    "    )\n"
   ]
  },
  {
   "cell_type": "markdown",
   "metadata": {},
   "source": [
    "### `mlruns` Directory"
   ]
  },
  {
   "cell_type": "markdown",
   "metadata": {},
   "source": [
    "- All model runs and artifacts are stored in the `mlruns` directory created automatically when you start logging\n",
    "- Explore it at your leisure"
   ]
  },
  {
   "cell_type": "markdown",
   "metadata": {},
   "source": [
    "### Amend model registration via mlflow UI"
   ]
  },
  {
   "cell_type": "markdown",
   "metadata": {},
   "source": [
    "- The code above automatically registers the model for you!\n",
    "- Feel free to change tags etc. via the UI under `Models` tab"
   ]
  },
  {
   "cell_type": "markdown",
   "metadata": {},
   "source": [
    "### Load Registered Model for Inference"
   ]
  },
  {
   "cell_type": "markdown",
   "metadata": {},
   "source": [
    "- Now that we've registered a model, suppose we want to use it"
   ]
  },
  {
   "cell_type": "code",
   "execution_count": 5,
   "metadata": {},
   "outputs": [
    {
     "name": "stderr",
     "output_type": "stream",
     "text": [
      "/Users/yongjian.tek/Desktop/data_science/.venv/lib/python3.11/site-packages/mlflow/store/artifact/utils/models.py:31: FutureWarning: ``mlflow.tracking.client.MlflowClient.get_latest_versions`` is deprecated since 2.9.0. Model registry stages will be removed in a future major release. To learn more about the deprecation of model registry stages, see our migration guide here: https://mlflow.org/docs/latest/model-registry.html#migrating-from-stages\n",
      "  latest = client.get_latest_versions(name, None if stage is None else [stage])\n",
      "/Users/yongjian.tek/Desktop/data_science/.venv/lib/python3.11/site-packages/tqdm/auto.py:21: TqdmWarning: IProgress not found. Please update jupyter and ipywidgets. See https://ipywidgets.readthedocs.io/en/stable/user_install.html\n",
      "  from .autonotebook import tqdm as notebook_tqdm\n",
      "Downloading artifacts: 100%|██████████| 7/7 [00:00<00:00, 79.74it/s]  "
     ]
    },
    {
     "name": "stdout",
     "output_type": "stream",
     "text": [
      "[ 16.36355607 -20.09258424   8.0136586    6.16919118  -1.81185423\n",
      "   4.03116362 -24.95801449  68.78053495 -45.0766513   64.44760141\n",
      " -40.16931792 -25.54191065 -14.39985794 -38.0567874    8.05358765\n",
      " -25.73029816 -15.91990041 -10.99985266 -24.2475118  -32.70582446\n",
      "  17.34781751  68.78053495  44.27341488  41.31593646  48.16602726\n",
      " -23.62019943  47.15590018  69.12741949  48.16602726  -0.26024544\n",
      " -28.49126919 -10.99985266  10.73067585 -10.61092056  -4.7324722\n",
      "   2.76556278  58.93099448 -31.19567455 -35.55773052 -23.99366895\n",
      "  48.16602726  13.34984948  12.56552213 -18.66808469 -32.70582446\n",
      " -39.30386685 -34.29680647  48.16602726 -33.40149961  20.35083862\n",
      " -15.0214084  -34.55064932  -2.28963784 -19.61227378   7.6979477\n",
      " -25.86538741 -11.95702358 -15.36598686   5.88539811 -30.23881739\n",
      " -25.47645531 -43.61170248 -43.7442754  -14.59055495 -40.16931792\n",
      " -32.70582446  -2.68114572  -5.39418041  16.15991316  -2.28963784\n",
      "  41.662821    10.04512765  51.22797543 -23.09874036  10.04512765\n",
      "  46.57743645 -20.52376815  -1.6103738  -35.0075932  -15.20884302\n",
      " -35.55773052 -23.40214481  24.10404702 -25.73795219   2.76556278\n",
      " -12.70325885 -18.4990964    9.33443596 -17.86799054 -32.70582446\n",
      "  -1.6103738    3.70754019 -37.62039689  -6.03562026 -34.29680647\n",
      "   1.65384025 -39.4944159   10.59559162 -43.77158907  53.26556903]\n"
     ]
    },
    {
     "name": "stderr",
     "output_type": "stream",
     "text": [
      "\n"
     ]
    }
   ],
   "source": [
    "import mlflow.sklearn\n",
    "from sklearn.datasets import make_regression\n",
    "\n",
    "model_name = \"sk-learn-random-forest-reg-model\"\n",
    "model_version = \"latest\"\n",
    "\n",
    "# Load the model from the Model Registry\n",
    "model_uri = f\"models:/{model_name}/{model_version}\"\n",
    "model = mlflow.sklearn.load_model(model_uri)\n",
    "\n",
    "# Generate a new dataset for prediction and predict\n",
    "X_new, _ = make_regression(n_features=4, n_informative=2, random_state=0, shuffle=False)\n",
    "y_pred_new = model.predict(X_new)\n",
    "\n",
    "print(y_pred_new)"
   ]
  },
  {
   "cell_type": "markdown",
   "metadata": {},
   "source": [
    "- There are 3 ways mlflow lets you load a registered model\n",
    "    - Via Name and Version\n",
    "    - Via Relative local path\n",
    "    - Via Run ID"
   ]
  },
  {
   "cell_type": "markdown",
   "metadata": {},
   "source": [
    "#### Name and Version"
   ]
  },
  {
   "cell_type": "code",
   "execution_count": 6,
   "metadata": {},
   "outputs": [
    {
     "name": "stderr",
     "output_type": "stream",
     "text": [
      "/Users/yongjian.tek/Desktop/data_science/.venv/lib/python3.11/site-packages/mlflow/store/artifact/utils/models.py:31: FutureWarning: ``mlflow.tracking.client.MlflowClient.get_latest_versions`` is deprecated since 2.9.0. Model registry stages will be removed in a future major release. To learn more about the deprecation of model registry stages, see our migration guide here: https://mlflow.org/docs/latest/model-registry.html#migrating-from-stages\n",
      "  latest = client.get_latest_versions(name, None if stage is None else [stage])\n",
      "Downloading artifacts: 100%|██████████| 7/7 [00:00<00:00, 259.22it/s]\n"
     ]
    }
   ],
   "source": [
    "## Name and Version\n",
    "model = mlflow.sklearn.load_model(f\"models:/{model_name}/{model_version}\")"
   ]
  },
  {
   "cell_type": "markdown",
   "metadata": {},
   "source": [
    "#### Name and Version, with version aliasing "
   ]
  },
  {
   "cell_type": "code",
   "execution_count": 7,
   "metadata": {},
   "outputs": [
    {
     "name": "stdout",
     "output_type": "stream",
     "text": [
      "{}\n"
     ]
    },
    {
     "name": "stderr",
     "output_type": "stream",
     "text": [
      "Downloading artifacts: 100%|██████████| 7/7 [00:00<00:00, 161.65it/s]"
     ]
    },
    {
     "name": "stdout",
     "output_type": "stream",
     "text": [
      "RandomForestRegressor(max_depth=2, random_state=42)\n"
     ]
    },
    {
     "name": "stderr",
     "output_type": "stream",
     "text": [
      "\n"
     ]
    }
   ],
   "source": [
    "import mlflow.sklearn\n",
    "from mlflow import MlflowClient\n",
    "\n",
    "client = MlflowClient()\n",
    "\n",
    "# Set model version alias\n",
    "model_name = \"sk-learn-random-forest-reg-model\"\n",
    "model_version_alias = \"the_best_model_ever\"\n",
    "client.set_registered_model_alias(\n",
    "    model_name, model_version_alias, \"1\"\n",
    ")  # Duplicate of step in UI\n",
    "\n",
    "# Get information about the model\n",
    "model_info = client.get_model_version_by_alias(model_name, model_version_alias)\n",
    "model_tags = model_info.tags\n",
    "print(model_tags)\n",
    "\n",
    "# Get the model version using a model URI\n",
    "model_uri = f\"models:/{model_name}@{model_version_alias}\"\n",
    "model = mlflow.sklearn.load_model(model_uri)\n",
    "\n",
    "print(model)\n"
   ]
  },
  {
   "cell_type": "markdown",
   "metadata": {},
   "source": [
    "#### Via Paths"
   ]
  },
  {
   "cell_type": "code",
   "execution_count": null,
   "metadata": {},
   "outputs": [],
   "source": [
    "#Absolute local path: \n",
    "mlflow.sklearn.load_model(\"/Users/me/path/to/local/model\")\n",
    "\n",
    "#Relative local path: \n",
    "mlflow.sklearn.load_model(\"relative/path/to/local/model\")"
   ]
  },
  {
   "cell_type": "markdown",
   "metadata": {},
   "source": [
    "#### Via Run ID"
   ]
  },
  {
   "cell_type": "code",
   "execution_count": null,
   "metadata": {},
   "outputs": [],
   "source": [
    "#Run id\n",
    "mlflow.sklearn.load_model(f\"runs:/{mlflow_run_id}/{run_relative_path_to_model}\")"
   ]
  }
 ],
 "metadata": {
  "kernelspec": {
   "display_name": ".venv",
   "language": "python",
   "name": "python3"
  },
  "language_info": {
   "codemirror_mode": {
    "name": "ipython",
    "version": 3
   },
   "file_extension": ".py",
   "mimetype": "text/x-python",
   "name": "python",
   "nbconvert_exporter": "python",
   "pygments_lexer": "ipython3",
   "version": "3.11.10"
  }
 },
 "nbformat": 4,
 "nbformat_minor": 2
}
