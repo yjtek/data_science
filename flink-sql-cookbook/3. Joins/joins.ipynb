{
 "cells": [
  {
   "cell_type": "markdown",
   "metadata": {},
   "source": [
    "# Joins"
   ]
  },
  {
   "cell_type": "markdown",
   "metadata": {},
   "source": [
    "## 1. Regular Joins"
   ]
  },
  {
   "cell_type": "markdown",
   "metadata": {},
   "source": [
    "```sql\n",
    "CREATE TABLE NOC (\n",
    "  agent_id STRING,\n",
    "  codename STRING\n",
    ")\n",
    "WITH (\n",
    "  'connector' = 'faker',\n",
    "  'fields.agent_id.expression' = '#{regexify ''(1|2|3|4|5){1}''}',\n",
    "  'fields.codename.expression' = '#{superhero.name}',\n",
    "  'number-of-rows' = '10'\n",
    ");\n",
    "\n",
    "CREATE TABLE RealNames (\n",
    "  agent_id STRING,\n",
    "  name     STRING\n",
    ")\n",
    "WITH (\n",
    "  'connector' = 'faker',\n",
    "  'fields.agent_id.expression' = '#{regexify ''(1|2|3|4|5){1}''}',\n",
    "  'fields.name.expression' = '#{Name.full_name}',\n",
    "  'number-of-rows' = '10'\n",
    ");\n",
    "\n",
    "SELECT\n",
    "    name,\n",
    "    codename\n",
    "FROM NOC\n",
    "INNER JOIN RealNames ON NOC.agent_id = RealNames.agent_id;\n",
    "```"
   ]
  },
  {
   "cell_type": "markdown",
   "metadata": {},
   "source": [
    "## 2. Interval Joins"
   ]
  },
  {
   "cell_type": "markdown",
   "metadata": {},
   "source": [
    "- Sometimes, you want to join stuff IFF the time stamps are within XX time period \n",
    "- This is known as an interval join"
   ]
  },
  {
   "cell_type": "markdown",
   "metadata": {},
   "source": [
    "```sql\n",
    "CREATE TABLE orders (\n",
    "  id INT,\n",
    "  order_time AS TIMESTAMPADD(DAY, CAST(FLOOR(RAND()*(1-5+1)+5)*(-1) AS INT), CURRENT_TIMESTAMP)\n",
    ")\n",
    "WITH (\n",
    "  'connector' = 'datagen',\n",
    "  'rows-per-second'='10',\n",
    "  'fields.id.kind'='sequence',\n",
    "  'fields.id.start'='1',\n",
    "  'fields.id.end'='1000'\n",
    ");\n",
    "\n",
    "\n",
    "CREATE TABLE shipments (\n",
    "  id INT,\n",
    "  order_id INT,\n",
    "  shipment_time AS TIMESTAMPADD(DAY, CAST(FLOOR(RAND()*(1-5+1)) AS INT), CURRENT_TIMESTAMP)\n",
    ")\n",
    "WITH (\n",
    "  'connector' = 'datagen',\n",
    "  'rows-per-second'='5',\n",
    "  'fields.id.kind'='random',\n",
    "  'fields.id.min'='0',\n",
    "  'fields.order_id.kind'='sequence',\n",
    "  'fields.order_id.start'='1',\n",
    "  'fields.order_id.end'='1000'\n",
    ");\n",
    "\n",
    "SELECT\n",
    "  o.id AS order_id,\n",
    "  o.order_time,\n",
    "  s.shipment_time,\n",
    "  TIMESTAMPDIFF(DAY,o.order_time,s.shipment_time) AS day_diff\n",
    "FROM orders o\n",
    "JOIN shipments s ON o.id = s.order_id\n",
    "WHERE \n",
    "    o.order_time BETWEEN s.shipment_time - INTERVAL '3' DAY AND s.shipment_time;\n",
    "```"
   ]
  },
  {
   "cell_type": "markdown",
   "metadata": {},
   "source": [
    "## 3. Kafka Join"
   ]
  },
  {
   "cell_type": "markdown",
   "metadata": {},
   "source": [
    "- Imagine you have some order data, and some currency data\n",
    "- Currency values fluctuate by the second, so the stream only has the latest value (compacted stream)\n",
    "- So when you want to compute order value, you need the latest currency value!"
   ]
  },
  {
   "cell_type": "markdown",
   "metadata": {},
   "source": [
    "```sql\n",
    "CREATE TEMPORARY TABLE currency_rates (\n",
    "  `currency_code` STRING,\n",
    "  `eur_rate` DECIMAL(6,4),\n",
    "  `rate_time` TIMESTAMP(3),\n",
    "  WATERMARK FOR `rate_time` AS rate_time - INTERVAL '15' SECOND,\n",
    "  PRIMARY KEY (currency_code) NOT ENFORCED\n",
    ") WITH (\n",
    "  'connector' = 'upsert-kafka',\n",
    "  'topic' = 'currency_rates',\n",
    "  'properties.bootstrap.servers' = 'localhost:9092',\n",
    "  'key.format' = 'raw',\n",
    "  'value.format' = 'json'\n",
    ");\n",
    "\n",
    "CREATE TEMPORARY TABLE transactions (\n",
    "  `id` STRING,\n",
    "  `currency_code` STRING,\n",
    "  `total` DECIMAL(10,2),\n",
    "  `transaction_time` TIMESTAMP(3),\n",
    "  WATERMARK FOR `transaction_time` AS transaction_time - INTERVAL '30' SECOND\n",
    ") WITH (\n",
    "  'connector' = 'kafka',\n",
    "  'topic' = 'transactions',\n",
    "  'properties.bootstrap.servers' = 'localhost:9092',\n",
    "  'key.format' = 'raw',\n",
    "  'key.fields' = 'id',\n",
    "  'value.format' = 'json',\n",
    "  'value.fields-include' = 'ALL'\n",
    ");\n",
    "\n",
    "SELECT \n",
    "  t.id,\n",
    "  t.total * c.eur_rate AS total_eur,\n",
    "  t.total, \n",
    "  c.currency_code,\n",
    "  t.transaction_time\n",
    "FROM transactions t\n",
    "JOIN currency_rates FOR SYSTEM_TIME AS OF t.transaction_time AS c\n",
    "ON t.currency_code = c.currency_code;\n",
    "```"
   ]
  },
  {
   "cell_type": "markdown",
   "metadata": {},
   "source": [
    "## 4. Lookup Join"
   ]
  },
  {
   "cell_type": "markdown",
   "metadata": {},
   "source": [
    "- Not all data changes quickly\n",
    "- There is often a need to enrich streaming data with relational databases by direct joining\n",
    "- ALl you need is to have 1 table contain some processing time attribute, and another should have some lookup source connector (e.g. JDBC connector)"
   ]
  },
  {
   "cell_type": "markdown",
   "metadata": {},
   "source": [
    "```sql\n",
    "CREATE TABLE subscriptions ( \n",
    "    id STRING,\n",
    "    user_id INT,\n",
    "    type STRING,\n",
    "    start_date TIMESTAMP(3),\n",
    "    end_date TIMESTAMP(3),\n",
    "    payment_expiration TIMESTAMP(3),\n",
    "    proc_time AS PROCTIME()\n",
    ") WITH (\n",
    "  'connector' = 'faker',\n",
    "  'fields.id.expression' = '#{Internet.uuid}', \n",
    "  'fields.user_id.expression' = '#{number.numberBetween ''1'',''50''}',\n",
    "  'fields.type.expression'= '#{regexify ''(basic|premium|platinum){1}''}',\n",
    "  'fields.start_date.expression' = '#{date.past ''30'',''DAYS''}',\n",
    "  'fields.end_date.expression' = '#{date.future ''365'',''DAYS''}',\n",
    "  'fields.payment_expiration.expression' = '#{date.future ''365'',''DAYS''}'\n",
    ");\n",
    "\n",
    "CREATE TABLE users (\n",
    " user_id INT PRIMARY KEY,\n",
    " user_name VARCHAR(255) NOT NULL, \n",
    " age INT NOT NULL\n",
    ")\n",
    "WITH (\n",
    "  'connector' = 'jdbc', \n",
    "  'url' = 'jdbc:mysql://localhost:3306/mysql-database', \n",
    "  'table-name' = 'users', \n",
    "  'username' = 'mysql-user', \n",
    "  'password' = 'mysql-password'\n",
    ");\n",
    "\n",
    "SELECT \n",
    "  id AS subscription_id,\n",
    "  type AS subscription_type,\n",
    "  age AS user_age,\n",
    "  CASE \n",
    "    WHEN age < 18 THEN 1\n",
    "    ELSE 0\n",
    "  END AS is_minor\n",
    "FROM subscriptions usub\n",
    "JOIN users FOR SYSTEM_TIME AS OF usub.proc_time AS u\n",
    "  ON usub.user_id = u.user_id;\n",
    "```"
   ]
  },
  {
   "cell_type": "markdown",
   "metadata": {},
   "source": [
    "## 5. Lateral Joins"
   ]
  },
  {
   "cell_type": "markdown",
   "metadata": {},
   "source": [
    "- Lateral joins aren't specific to Flink.\n",
    "- The idea of lateral joins is this:\n",
    "    - You have some table of value\n",
    "    - You want to filter this table based on another table of values\n",
    "    - But you want to avoid the pattern of creating 2 separate CTEs, joining them, then filtering\n",
    "\n",
    "- In the query below, we define a stream of individuals and their latest city/state\n",
    "- For each individual, we take the latest available city/state tag \n",
    "- Then, we join the current population laterally with the list of distinc tstates\n",
    "- This guarantees that populations are updated in real time; because if someone moves from one state to another, they are automatically deducted from one and added to another"
   ]
  },
  {
   "cell_type": "markdown",
   "metadata": {},
   "source": [
    "```sql\n",
    "CREATE TABLE People (\n",
    "    id           INT,\n",
    "    city         STRING,\n",
    "    state        STRING,\n",
    "    arrival_time TIMESTAMP(3),\n",
    "    WATERMARK FOR arrival_time AS arrival_time - INTERVAL '1' MINUTE \n",
    ") WITH (\n",
    "    'connector' = 'faker',\n",
    "    'fields.id.expression'    = '#{number.numberBetween ''1'',''100''}',\n",
    "    'fields.city.expression'  = '#{regexify ''(Newmouth|Newburgh|Portport|Southfort|Springfield){1}''}',\n",
    "    'fields.state.expression' = '#{regexify ''(New York|Illinois|California|Washington){1}''}',\n",
    "    'fields.arrival_time.expression' = '#{date.past ''15'',''SECONDS''}',\n",
    "    'rows-per-second'          = '10'\n",
    "); \n",
    "\n",
    "CREATE TEMPORARY VIEW CurrentPopulation AS\n",
    "SELECT \n",
    "    city,\n",
    "    state,\n",
    "    COUNT(*) as population\n",
    "FROM (\n",
    "    SELECT\n",
    "        city,\n",
    "        state,\n",
    "        ROW_NUMBER() OVER (PARTITION BY id ORDER BY arrival_time DESC) AS rownum\n",
    "    FROM People\n",
    ")\n",
    "WHERE rownum = 1\n",
    "GROUP BY city, state;\n",
    "\n",
    "SELECT\n",
    "    state,\n",
    "    city,\n",
    "    population\n",
    "FROM \n",
    "    (SELECT DISTINCT state FROM CurrentPopulation) States,\n",
    "    LATERAL (\n",
    "        SELECT city, population\n",
    "        FROM CurrentPopulation\n",
    "        WHERE state = States.state\n",
    "        ORDER BY population DESC\n",
    "        LIMIT 2\n",
    ");\n",
    "```"
   ]
  }
 ],
 "metadata": {
  "language_info": {
   "name": "python"
  }
 },
 "nbformat": 4,
 "nbformat_minor": 2
}
