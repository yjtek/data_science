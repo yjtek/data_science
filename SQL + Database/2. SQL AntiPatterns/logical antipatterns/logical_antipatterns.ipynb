{
 "cells": [
  {
   "cell_type": "markdown",
   "metadata": {},
   "source": [
    "# Logical Antipatterns"
   ]
  },
  {
   "cell_type": "markdown",
   "metadata": {},
   "source": [
    "## 1. Multi-Valued Attributes"
   ]
  },
  {
   "cell_type": "markdown",
   "metadata": {},
   "source": [
    "- Try to avoid having multiple values in a single attribute, this makes it hard to join tables in a memory efficient way\n",
    "- It is much better to store a separate table with the attributes separated into columns"
   ]
  },
  {
   "cell_type": "markdown",
   "metadata": {},
   "source": [
    "## 2. Add  a primary key"
   ]
  },
  {
   "cell_type": "markdown",
   "metadata": {},
   "source": [
    "- If you don't have a primary key, you should strongly consider specifying it to avoid duplication\n",
    "\n",
    "- With that said, don't introduce generic keys unnecessarily (like adding row number within a partition), because you might end up joining tables that have clashing keys"
   ]
  },
  {
   "cell_type": "markdown",
   "metadata": {},
   "source": [
    "## 3. Add a foreign key"
   ]
  },
  {
   "cell_type": "markdown",
   "metadata": {},
   "source": [
    "- While imposing a foreign key makes the table less flexible to use, it also helps changes to the database is cascaded correctly\n",
    "- Be aware of this tradeoff"
   ]
  },
  {
   "cell_type": "markdown",
   "metadata": {},
   "source": [
    "## 4. Entity-Attribute-Value Pattern"
   ]
  },
  {
   "cell_type": "markdown",
   "metadata": {},
   "source": [
    "- This is kind of the pattern you use when you want a NoSQL pattern in a tabular database\n",
    "- Basically, EAV is a triple table structure, with each row description containing an entity identifier, attribute, and value. So all of these can be modified on the fly, and every entity can have different combinations of attributes"
   ]
  },
  {
   "cell_type": "markdown",
   "metadata": {},
   "source": [
    "## 5. Metadata Tribbles"
   ]
  },
  {
   "cell_type": "markdown",
   "metadata": {},
   "source": [
    "- In the past, where table partitioning was not well supported, you may want to have a column that splits the database into logical partitions (e.g. year, month, day etc)"
   ]
  },
  {
   "cell_type": "markdown",
   "metadata": {},
   "source": []
  }
 ],
 "metadata": {
  "language_info": {
   "name": "python"
  }
 },
 "nbformat": 4,
 "nbformat_minor": 2
}
