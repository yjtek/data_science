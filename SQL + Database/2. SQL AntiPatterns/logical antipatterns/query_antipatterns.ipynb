{
 "cells": [
  {
   "cell_type": "markdown",
   "metadata": {},
   "source": [
    "# Query Antipatterns"
   ]
  },
  {
   "cell_type": "markdown",
   "metadata": {},
   "source": [
    "## 1. SELECT *"
   ]
  },
  {
   "cell_type": "markdown",
   "metadata": {},
   "source": [
    "- Yea just don't. Specify column names always\n",
    "\n",
    "- Issues\n",
    "    - Memory wastage\n",
    "    - You may not be able to create an index to query the subset of columns you have\n",
    "    - You may select 2 columns with the same name from different tables, crashing your consumer"
   ]
  },
  {
   "cell_type": "markdown",
   "metadata": {},
   "source": [
    "## 2. Misunderstanding NULL "
   ]
  },
  {
   "cell_type": "markdown",
   "metadata": {},
   "source": [
    "- NULL is not zero\n",
    "- NULL is not the same as a string with 0 length\n",
    "- NULL is not false"
   ]
  },
  {
   "cell_type": "markdown",
   "metadata": {},
   "source": [
    "## 3. String Concatenation"
   ]
  },
  {
   "cell_type": "markdown",
   "metadata": {},
   "source": [
    "- Sometimes, we want to work with NULL-able columns, but a NULL column will always return NULL value\n",
    "- To workaround this, use `COALESCE`"
   ]
  },
  {
   "cell_type": "markdown",
   "metadata": {},
   "source": [
    "## 4. ORDER BY RAND"
   ]
  },
  {
   "cell_type": "markdown",
   "metadata": {},
   "source": [
    "- If you introduce a random component, your query will not be index-optimised"
   ]
  },
  {
   "cell_type": "markdown",
   "metadata": {},
   "source": [
    "## 5. Pattern Matching Usage"
   ]
  },
  {
   "cell_type": "markdown",
   "metadata": {},
   "source": [
    "- Don't use vanilla pattern matching (e.g. LIKE or REGEXP_*)\n",
    "- If you can help it, try to use better implementation for this sort of text search instead of SQL"
   ]
  },
  {
   "cell_type": "markdown",
   "metadata": {},
   "source": [
    "## 6. Spaghetti Query"
   ]
  },
  {
   "cell_type": "markdown",
   "metadata": {},
   "source": [
    "- Splitting up a complex query (maybe via CTE) is always better idea\n",
    "- Easier to read means easier to maintain"
   ]
  },
  {
   "cell_type": "markdown",
   "metadata": {},
   "source": [
    "## 7. Reduce JOINS"
   ]
  },
  {
   "cell_type": "markdown",
   "metadata": {},
   "source": [
    "- If you can help it, minimise the joins handled by SQL"
   ]
  },
  {
   "cell_type": "markdown",
   "metadata": {},
   "source": [
    "## 8. DISTINCT"
   ]
  },
  {
   "cell_type": "markdown",
   "metadata": {},
   "source": [
    "- Too many distincts is usually a symptom of overly complex SQL\n",
    "- Consider splitting your query into simpler queries instead"
   ]
  },
  {
   "cell_type": "markdown",
   "metadata": {},
   "source": [
    "## 9. HAVING"
   ]
  },
  {
   "cell_type": "markdown",
   "metadata": {},
   "source": [
    "- If you can change the HAVING clause into a predicate (i.e. values are known ahead of time) then the query processing can use indexes"
   ]
  },
  {
   "cell_type": "markdown",
   "metadata": {},
   "source": [
    "## 10. Nested queries"
   ]
  },
  {
   "cell_type": "markdown",
   "metadata": {},
   "source": [
    "- Don't nest if possible"
   ]
  },
  {
   "cell_type": "markdown",
   "metadata": {},
   "source": [
    "## 11. OR usage"
   ]
  },
  {
   "cell_type": "markdown",
   "metadata": {},
   "source": [
    "- If you want to have multiple conditions (`table.col=a OR table.col=b OR table.col=c`), use IN instead\n",
    "- `table.col in (a,b,c)`\n",
    "\n",
    "- This lets your engine performing indexed query"
   ]
  },
  {
   "cell_type": "markdown",
   "metadata": {},
   "source": [
    "## 12. UNION vs UNION ALL"
   ]
  },
  {
   "cell_type": "markdown",
   "metadata": {},
   "source": [
    "- UNION removes duplicates\n",
    "- UNION ALL does not\n",
    "- So UNION ALL is faster"
   ]
  },
  {
   "cell_type": "markdown",
   "metadata": {},
   "source": [
    "## 13. DISTINCT vs EXISTS"
   ]
  },
  {
   "cell_type": "markdown",
   "metadata": {},
   "source": [
    "- Since DISTINCT sorts the data then deduplicates, it creates a huge overhead cost"
   ]
  },
  {
   "cell_type": "markdown",
   "metadata": {},
   "source": [
    "```sql\n",
    "SELECT DISTINCT c.country_id, c.country_name FROM SH.countries c,\n",
    "SH.customers e WHERE e.country_id = c.country_id\n",
    "```"
   ]
  },
  {
   "cell_type": "markdown",
   "metadata": {},
   "source": [
    "- Instead, you can use `EXISTS`"
   ]
  },
  {
   "cell_type": "markdown",
   "metadata": {},
   "source": [
    "```sql\n",
    "SELECT c.country_id, c.country_name FROM SH.countries c WHERE  EXISTS\n",
    "(SELECT 'X' FROM  SH.customers e WHERE e.country_id = c.country_id)\n",
    "```"
   ]
  }
 ],
 "metadata": {
  "language_info": {
   "name": "python"
  }
 },
 "nbformat": 4,
 "nbformat_minor": 2
}
