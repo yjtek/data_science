{
 "cells": [
  {
   "cell_type": "markdown",
   "metadata": {},
   "source": [
    "## Chapter 4: Validity and Efficiency of Conformal Prediction"
   ]
  },
  {
   "cell_type": "markdown",
   "metadata": {},
   "source": [
    "- What does it mean for a predictor to be valid?\n",
    "    - A conformal predictor is valid if, for any desired confidence level $1−\\alpha$, the proportion of true target values contained within their corresponding prediction intervals is at least $1−\\alpha$, on average, across multiple instances.\n",
    "    - That is, if I set my confidence to be 95%, then 95% of my interval predictions should contain the true value\n",
    "\n",
    "$$\\begin{aligned}\n",
    "    P(Y \\in \\text{Interval}(x, \\epsilon)) \\ge 1 - \\epsilon\n",
    "\\end{aligned}$$\n",
    "\n",
    "- This condition is met so long as your data is IID"
   ]
  },
  {
   "cell_type": "markdown",
   "metadata": {},
   "source": [
    "### Classifier Calibration"
   ]
  },
  {
   "cell_type": "markdown",
   "metadata": {},
   "source": [
    "- A well-calibrated model means that, if the model predicts 20% chance of class 1, the long term average outcome is 20%\n",
    "\n",
    "- We will go through 2 measures of calibration\n",
    "    - Brier Score\n",
    "    - Log Loss\n"
   ]
  },
  {
   "cell_type": "markdown",
   "metadata": {},
   "source": [
    "- Suppose we have this outcome table\n",
    "\n",
    "| Day | Forecasted Probability of Rain | Actual Outcome (Rain) |\n",
    "| --- | --- | --- | \n",
    "| 1 | 80% | Yes |\n",
    "| 2 | 60% | No |\n",
    "| 3 | 90% | Yes |\n",
    "| 4 | 30% | No |\n",
    "| 5 | 70% | Yes |\n",
    "| 6 | 50% | No |\n",
    "| 7 | 80% | Yes |\n",
    "| 8 | 20% | No |\n",
    "| 9 | 40% | Yes |\n",
    "| 10 | 60% | Yes |\n",
    "\n",
    "- Tabulating forecast probability against observed frequencies\n",
    "\n",
    "| Chance of Rain | Count of Predictions with P(Rain) | Count of Actual Rain | Frequency |\n",
    "| --- | --- | --- | --- | \n",
    "| 20% | 1 | 0 | 0% |\n",
    "| 30% | 1 | 0 | 0% |\n",
    "| 40% | 1 | 1 | 100% |\n",
    "| 50% | 1 | 0 | 0% |\n",
    "| 60% | 2 | 1 | 50% |\n",
    "| 70% | 1 | 1 | 100% |\n",
    "| 80% | 2 | 2 | 100% |\n",
    "| 90% | 1 | 1 | 100% |\n"
   ]
  },
  {
   "cell_type": "markdown",
   "metadata": {},
   "source": [
    "- Brier Score:\n",
    "$$\\begin{aligned}\n",
    "    \\frac{\\sum_i \\text{outcome} - \\text{pred}}{n} &= \\frac{(1 - 0.8)^2 + (0 - 0.6)^2 + (1 - 0.9)^2 + ...}{10} \\\\\n",
    "    &\\approx 0.144\n",
    "\\end{aligned}$$"
   ]
  },
  {
   "cell_type": "markdown",
   "metadata": {},
   "source": [
    "- Log Loss:\n",
    "$$\\begin{aligned}\n",
    "    \\text{Avg Log Loss} &= \\frac{\\sum_i -(y_i \\log{(p_i)} + (1-y_i) \\log{(1-p_i)})}{10} \\\\\n",
    "    &= \\frac{(1 \\log 0.8 + 0 \\log(0.2)) + (0 \\log 0.6 + 1 \\log(0.4)) ...}{10} \\\\\n",
    "    &\\approx 0.664\n",
    "\\end{aligned}$$"
   ]
  },
  {
   "cell_type": "markdown",
   "metadata": {},
   "source": [
    "### Classifier Efficiency"
   ]
  },
  {
   "cell_type": "markdown",
   "metadata": {},
   "source": [
    "- There are a few common ways to measure a conformal prediction's efficiency\n",
    "\n",
    "- Prediction interval length\n",
    "    - In regression problems, we can study the size of the returned interval\n",
    "\n",
    "- Prediction set size\n",
    "    - In classification problems, we can study how many objects are returned on average\n",
    "\n",
    "- Coverage probability\n",
    "    - How often does the true value fall within your prediction set/interval\n",
    "\n",
    "- P-value histograms\n",
    "    - Study the distribution of p-values produced. \n",
    "    - For better models, you typically have very concentrated p-values (very close to 0 or 1)\n",
    "    - This implies that the model is very confident that the observation is/is not conforming to the dataset\n",
    "    - With more confidence, comes narrower prediction bands\n",
    "    - Whereas more uniform p-values imply wider prediction bands"
   ]
  },
  {
   "cell_type": "markdown",
   "metadata": {},
   "source": []
  }
 ],
 "metadata": {
  "language_info": {
   "name": "python"
  }
 },
 "nbformat": 4,
 "nbformat_minor": 2
}
