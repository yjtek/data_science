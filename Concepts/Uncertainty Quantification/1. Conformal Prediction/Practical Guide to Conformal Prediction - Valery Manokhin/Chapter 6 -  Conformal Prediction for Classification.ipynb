{
 "cells": [
  {
   "cell_type": "markdown",
   "metadata": {},
   "source": [
    "## Chapter 6: Conformal Prediction for Classification"
   ]
  },
  {
   "cell_type": "markdown",
   "metadata": {},
   "source": [
    "### Why calibration is important"
   ]
  },
  {
   "cell_type": "markdown",
   "metadata": {},
   "source": [
    "- You need to calibrate well, or your probability/regression outputs may not be meaningful\n",
    "    - For example, it won't make sense if 20% of the people who you predict to have 1% chance of cancer actually have cancer\n",
    "    - Without proper calibration, deciding on cutoffs may be difficult also. If your 50% isn't truly 50%, then what is the point?"
   ]
  },
  {
   "cell_type": "markdown",
   "metadata": {},
   "source": [
    "### How to evaluate calibration"
   ]
  },
  {
   "cell_type": "markdown",
   "metadata": {},
   "source": [
    "- There are a few ways to evaluate the calibration of your model?\n",
    "    - Calibration Plot: Plot frequency of positives against mean predicted probability\n",
    "    - Calibration Error: Reduce calibration evaluation to a single metric\n",
    "        - Mean absolute distance between estimated probabilities and observed probabilities\n",
    "    - Calibration metrics: Some of these include Expected Calibration Error, Log Loss, Brier Score (discussed in Chapter 3/4)\n",
    "    - Cross validation"
   ]
  },
  {
   "cell_type": "markdown",
   "metadata": {},
   "source": [
    "### Approaches to Classifier Calibration"
   ]
  },
  {
   "cell_type": "markdown",
   "metadata": {},
   "source": [
    "#### Histogram Binning"
   ]
  },
  {
   "cell_type": "markdown",
   "metadata": {},
   "source": [
    "- Not really an \"algorithm\" per se\n",
    "\n",
    "- Procedure\n",
    "    - Divide the predicted probabilities into bins/intervals \n",
    "    - For these same intervals, compute the observed proportions\n",
    "    - Compute the ratio between the predicted and observed proportions\n",
    "    - Adjust all probabilities within the intervals according to the adjustment ratio\n",
    "\n",
    "- Some drawbacks \n",
    "    - Bins are kind of inflexible, so if miscalibration is non-linear, then you have problems\n",
    "    - Binning causes information loss, because you are hard coding the boundaries between bins and calibrating only using bin averages\n",
    "    - Sensitive to thresholds chosen\n",
    "    - Discontinuous adjustments, even in adjacent bins\n",
    "    - If your data distribution shifts, the bins may not generalise well to new data"
   ]
  },
  {
   "cell_type": "markdown",
   "metadata": {},
   "source": [
    "#### Platt Scaling"
   ]
  },
  {
   "cell_type": "markdown",
   "metadata": {},
   "source": [
    "- Procedure\n",
    "    - Collect a labeled validation set or a holdout set that is distinct from the training data used to train the classifier\n",
    "    - Use the classifier to generate the raw output scores or logits for the instances in the validation set\n",
    "    - Fit a second logistic regression model on the validation set, treating the raw scores as the independent variable and the true class labels as the dependent variable\n",
    "    - Once the logistic regression model has been trained, it can be used as a calibration function.\n",
    "        - i.e. Given a new instance, the raw score produced by the classifier is input into the logistic regression model, which transforms it into a calibrated probability estimate.\n",
    "\n",
    "- Idea is: you fit the predictions of a holdout set (that you know the true labels for) using another model\n",
    "\n",
    "- Some drawbacks\n",
    "    - You need a holdout validation set that the first model has not seen\n",
    "    - Logreg assumption\n",
    "    - If your holdout set contains some extreme values by chance, you may create a terrible calibration function unknowingly\n",
    "    - Hard to map this to multiclass setting"
   ]
  },
  {
   "cell_type": "markdown",
   "metadata": {},
   "source": [
    "#### Isotonic Regression"
   ]
  },
  {
   "cell_type": "markdown",
   "metadata": {},
   "source": [
    "- Procedure\n",
    "    - Train classifier on training set\n",
    "    - Use the classifier to generate the raw output scores or probabilities for the instances in the validation set\n",
    "    - Sort the instances and labels in the validation set based on the raw scores\n",
    "        - i.e. [0.8, 0.5, 0.9, 0.2], [1, 1, 0, 0] ==> [0.2, 0.5, 0.8, 0.9], [0, 1, 1, 0]\n",
    "    - Initialize the isotonic regression function as the identity function, where the initial predicted probabilities are equal to the raw scores\n",
    "    - Iteratively update the isotonic regression function by adjusting the predicted probabilities to minimize the squared differences between the predicted probabilities and the target probabilities. This adjustment is subject to the constraint of non-decreasing probabilities.\n",
    "        - In example above, we start with [0.2, 0.5, 0.8, 0.9]\n",
    "        - 0.2 has label 0, so we may adjust this downwards\n",
    "        - 0.5 has label 1, and 0.5 exceeds 0.2, so we may adjust this upwards such that it does not exceed 0.8\n",
    "        - 0.8 has label 1, and 0.8 exceeds 0.5, so we may adjust this upwards such that it does not exceed 0.9\n",
    "        - 0.9 has label 0, so we want to adjust it downwards such that it does not exceed 0.8\n",
    "    - Once you have the isotonic regression, basically you have this piecewise line that maps predicted probabilities to the \"correct\" value, and ensures the piecewise line only increases\n",
    "\n",
    "    - For more details, see your gitlab self-implementation of Isotonic Regression and PAVA algorithm"
   ]
  },
  {
   "cell_type": "markdown",
   "metadata": {},
   "source": [
    "- Downsides\n",
    "    - Overfitting possible\n",
    "    - Sensitive to outliers\n",
    "    - Limited flexibility\n",
    "    - No multiclass support\n",
    "    - Limited probabilistic interpretation\n",
    "    - Inherent assumption that the new data can be perfectly ranked by the trained classifier"
   ]
  },
  {
   "cell_type": "markdown",
   "metadata": {},
   "source": [
    "### Conformal prediction for classifier calibration"
   ]
  },
  {
   "cell_type": "markdown",
   "metadata": {},
   "source": [
    "#### Venn-ABERS Conformal Prediction"
   ]
  },
  {
   "cell_type": "markdown",
   "metadata": {},
   "source": [
    "- Procedure\n",
    "    - For every new observation, append it to your \"calibration set\"\n",
    "    - Use your trained classifier to form a prediction for your observation\n",
    "    - Fit the isotonic regression twice, once assuming that your new observation is label 0, and another time assuming that your new observation is label 1\n",
    "    - This gives you 2 calibrated probabilities; $p_0, p_1$\n",
    "    - This forms the lower/upper bounds that your object belongs in label 1!\n",
    "\n",
    "- Not only do you get the boundaries of your prediction, it can also be a monitoring tool for how quickly your model's uncertainty is deteriorating\n",
    "\n",
    "- Practically, this can be combined into a single \"adjusted\" probability value for decision making \n",
    "$$\\begin{aligned}\n",
    "    p &= \\frac{p_1}{1 - p_0 + p_1}\n",
    "\\end{aligned}$$"
   ]
  },
  {
   "cell_type": "markdown",
   "metadata": {},
   "source": [
    "### Practical: ICP for Binary Classification"
   ]
  },
  {
   "cell_type": "markdown",
   "metadata": {},
   "source": [
    "- https://github.com/PacktPublishing/Practical-Guide-to-Applied-Conformal-Prediction/blob/main/Chapter_06.ipynb"
   ]
  },
  {
   "cell_type": "code",
   "execution_count": 28,
   "metadata": {},
   "outputs": [],
   "source": [
    "import numpy as np\n",
    "import pandas as pd\n",
    "import matplotlib.pyplot as plt\n",
    "\n",
    "%matplotlib inline\n",
    "\n",
    "from scipy.stats import rankdata\n",
    "\n",
    "import openml\n",
    "\n",
    "from sklearn.metrics import log_loss, accuracy_score, roc_auc_score, confusion_matrix\n",
    "from sklearn.linear_model import LogisticRegression\n",
    "from sklearn.model_selection import train_test_split\n",
    "from sklearn.svm import SVC, LinearSVC\n",
    "from sklearn.naive_bayes import GaussianNB\n",
    "from  sklearn.neighbors import KNeighborsClassifier\n",
    "from sklearn.tree import DecisionTreeClassifier\n",
    "from sklearn.ensemble import RandomForestClassifier, AdaBoostClassifier\n",
    "from sklearn.preprocessing import label_binarize, LabelEncoder\n",
    "\n",
    "import plotly.express as px\n",
    "\n",
    "\n",
    "from nonconformist.base import ClassifierAdapter\n",
    "from nonconformist.cp import IcpClassifier\n",
    "from nonconformist.nc import NcFactory, ClassifierNc, InverseProbabilityErrFunc, MarginErrFunc\n",
    "\n",
    "import warnings\n",
    "warnings.filterwarnings('ignore')"
   ]
  },
  {
   "cell_type": "markdown",
   "metadata": {},
   "source": [
    "#### Get data"
   ]
  },
  {
   "cell_type": "code",
   "execution_count": 29,
   "metadata": {},
   "outputs": [
    {
     "name": "stdout",
     "output_type": "stream",
     "text": [
      "This is dataset 'bank-marketing', the target feature is 'Class'\n",
      "URL: https://api.openml.org/data/v1/download/1586218/bank-marketing.arff\n",
      "**Author**: Paulo Cortez, Sérgio Moro\n",
      "**Source**: [UCI](https://archive.ics.uci.edu/ml/datasets/bank+marketing)\n",
      "**Please cite**: S. Moro, R. Laureano and P. Cortez. Using Data Mining for Bank Direct Marketing: An Application of the CRISP-DM Methodology. In P. Novais et al. (Eds.), Proceedings of the European Simulation and Modelling Conference - ESM'2011, pp. 117-121, Guimarães, Portugal, October, 2011. EUROSIS.       \n",
      "\n",
      "**Bank Marketing**  \n",
      "The data is related with direct marketing campaigns of a Portuguese banking institution. The marketing campaigns were based on phone calls. Often, more than one contact to the same client was required, in order to access if the product (bank term deposit) would be (or not) subscribed. \n",
      "\n",
      "The classification goal is to predict if the client will subscribe a term deposit (variable y).\n",
      "\n",
      "### Attribute information  \n",
      "For more information, read [Moro et al., 2011].\n",
      "\n",
      "Input variables:\n",
      "\n",
      "- bank client data:\n",
      "\n",
      "1 - age (numeric) \n",
      "\n",
      "2 - job : type of job (categorical: \"admin.\",\"unknown\",\"unemployed\",\"management\",\"housemaid\",\"entrepreneur\", \"student\",\"blue-collar\",\"self-employed\",\"retired\",\"technician\",\"services\") \n",
      "\n",
      "3 - marital : marital status (categorical: \"married\",\"divorced\",\"single\"; note: \"divorced\"  means divorced or widowed) \n",
      "\n",
      "4 - education (categorical: \"unknown\",\"secondary\",\"primary\",\"tertiary\") \n",
      "\n",
      "5 - default: has credit in default? (binary: \"yes\",\"no\") \n",
      "\n",
      "6 - balance: average yearly balance, in euros (numeric) \n",
      "\n",
      "7 - housing: has housing loan? (binary: \"yes\",\"no\") \n",
      "\n",
      "8 - loan: has personal loan? (binary: \"yes\",\"no\")\n",
      "\n",
      "- related with the last contact of the current campaign:\n",
      "\n",
      "9 - contact: contact communication type (categorical: \"unknown\",\"telephone\",\"cellular\")\n",
      "\n",
      "10 - day: last contact day of the month (numeric)\n",
      "\n",
      "11 - month: last contact month of year (categorical: \"jan\", \"feb\", \"mar\", ..., \"nov\", \"dec\")\n",
      "\n",
      "12 - duration: last contact duration, in seconds (numeric)\n",
      "\n",
      "- other attributes:\n",
      "\n",
      "13 - campaign: number of contacts performed during this campaign and for this client (numeric, includes last contact)\n",
      "\n",
      "14 - pdays: number of days that passed by after the client was last contacted from a previous campaign (numeric, -1 means client was not previously contacted) \n",
      "\n",
      "15 - previous: number of contacts performed before this campaign and for this client (numeric) \n",
      "\n",
      "16 - poutcome: outcome of the previous marketing campaign (categorical: \"unknown\",\"other\",\"failure\",\"success\")\n",
      " \n",
      "- output variable (desired target):\n",
      "\n",
      "17 - y - has the client subscribed a term deposit? (binary: \"yes\",\"no\")\n",
      "\n"
     ]
    }
   ],
   "source": [
    "datasets_df = openml.datasets.list_datasets(output_format=\"dataframe\")\n",
    "# Bank marketing dataset https://www.openml.org/d/1461\n",
    "dataset = openml.datasets.get_dataset(1461)\n",
    "\n",
    "# Print a summary\n",
    "print(\n",
    "    f\"This is dataset '{dataset.name}', the target feature is \"\n",
    "    f\"'{dataset.default_target_attribute}'\"\n",
    ")\n",
    "print(f\"URL: {dataset.url}\")\n",
    "print(dataset.description)"
   ]
  },
  {
   "cell_type": "markdown",
   "metadata": {},
   "source": [
    "#### Clean data"
   ]
  },
  {
   "cell_type": "code",
   "execution_count": 34,
   "metadata": {},
   "outputs": [],
   "source": [
    "# openml API\n",
    "X, y, categorical_indicator, attribute_names = dataset.get_data(\n",
    "    dataset_format=\"array\", target=dataset.default_target_attribute\n",
    ")\n",
    "df = pd.DataFrame(X, columns=attribute_names)\n",
    "df[\"class\"] = y"
   ]
  },
  {
   "cell_type": "code",
   "execution_count": 35,
   "metadata": {},
   "outputs": [],
   "source": [
    "for cat_ind, col in zip(categorical_indicator, df.columns):\n",
    "    # print(cat_ind, col)\n",
    "    if cat_ind == True:\n",
    "        df[col] = df[col].astype('category')"
   ]
  },
  {
   "cell_type": "code",
   "execution_count": 39,
   "metadata": {},
   "outputs": [
    {
     "name": "stdout",
     "output_type": "stream",
     "text": [
      "0.11698480458295547\n"
     ]
    },
    {
     "data": {
      "text/plain": [
       "class\n",
       "0    39922\n",
       "1     5289\n",
       "Name: count, dtype: int64"
      ]
     },
     "execution_count": 39,
     "metadata": {},
     "output_type": "execute_result"
    }
   ],
   "source": [
    "##Imbalanced\n",
    "print(df['class'].mean())\n",
    "df['class'].value_counts() "
   ]
  },
  {
   "cell_type": "code",
   "execution_count": 40,
   "metadata": {},
   "outputs": [],
   "source": [
    "# Encode categorical columns using Label Encoder\n",
    "le = LabelEncoder()\n",
    "cat_columns = df.select_dtypes(\"category\").columns\n",
    "\n",
    "for col in cat_columns:\n",
    "    df[col] = le.fit_transform(df[col])"
   ]
  },
  {
   "cell_type": "markdown",
   "metadata": {},
   "source": [
    "#### Split DF (train, calibration, test)"
   ]
  },
  {
   "cell_type": "code",
   "execution_count": 41,
   "metadata": {},
   "outputs": [],
   "source": [
    "X = df.drop('class', axis = 1)\n",
    "y = df['class']"
   ]
  },
  {
   "cell_type": "code",
   "execution_count": 42,
   "metadata": {},
   "outputs": [
    {
     "name": "stdout",
     "output_type": "stream",
     "text": [
      "Training set size 39211\n",
      "Calibration set size 3000\n",
      "Test set size 3000\n"
     ]
    }
   ],
   "source": [
    "X_train_calib, X_test, y_train_calib, y_test = train_test_split(X, y, test_size=3000, random_state=42, stratify=y)\n",
    "X_train, X_calib, y_train, y_calib = train_test_split(X_train_calib, y_train_calib, test_size=3000, random_state=42, stratify=y_train_calib)\n",
    "print('Training set size {}'.format(len(y_train)))\n",
    "print('Calibration set size {}'.format(len(y_calib)))\n",
    "print('Test set size {}'.format(len(y_test)))"
   ]
  },
  {
   "cell_type": "markdown",
   "metadata": {},
   "source": [
    "#### Model"
   ]
  },
  {
   "cell_type": "code",
   "execution_count": 43,
   "metadata": {},
   "outputs": [
    {
     "data": {
      "text/html": [
       "<style>#sk-container-id-2 {\n",
       "  /* Definition of color scheme common for light and dark mode */\n",
       "  --sklearn-color-text: black;\n",
       "  --sklearn-color-line: gray;\n",
       "  /* Definition of color scheme for unfitted estimators */\n",
       "  --sklearn-color-unfitted-level-0: #fff5e6;\n",
       "  --sklearn-color-unfitted-level-1: #f6e4d2;\n",
       "  --sklearn-color-unfitted-level-2: #ffe0b3;\n",
       "  --sklearn-color-unfitted-level-3: chocolate;\n",
       "  /* Definition of color scheme for fitted estimators */\n",
       "  --sklearn-color-fitted-level-0: #f0f8ff;\n",
       "  --sklearn-color-fitted-level-1: #d4ebff;\n",
       "  --sklearn-color-fitted-level-2: #b3dbfd;\n",
       "  --sklearn-color-fitted-level-3: cornflowerblue;\n",
       "\n",
       "  /* Specific color for light theme */\n",
       "  --sklearn-color-text-on-default-background: var(--sg-text-color, var(--theme-code-foreground, var(--jp-content-font-color1, black)));\n",
       "  --sklearn-color-background: var(--sg-background-color, var(--theme-background, var(--jp-layout-color0, white)));\n",
       "  --sklearn-color-border-box: var(--sg-text-color, var(--theme-code-foreground, var(--jp-content-font-color1, black)));\n",
       "  --sklearn-color-icon: #696969;\n",
       "\n",
       "  @media (prefers-color-scheme: dark) {\n",
       "    /* Redefinition of color scheme for dark theme */\n",
       "    --sklearn-color-text-on-default-background: var(--sg-text-color, var(--theme-code-foreground, var(--jp-content-font-color1, white)));\n",
       "    --sklearn-color-background: var(--sg-background-color, var(--theme-background, var(--jp-layout-color0, #111)));\n",
       "    --sklearn-color-border-box: var(--sg-text-color, var(--theme-code-foreground, var(--jp-content-font-color1, white)));\n",
       "    --sklearn-color-icon: #878787;\n",
       "  }\n",
       "}\n",
       "\n",
       "#sk-container-id-2 {\n",
       "  color: var(--sklearn-color-text);\n",
       "}\n",
       "\n",
       "#sk-container-id-2 pre {\n",
       "  padding: 0;\n",
       "}\n",
       "\n",
       "#sk-container-id-2 input.sk-hidden--visually {\n",
       "  border: 0;\n",
       "  clip: rect(1px 1px 1px 1px);\n",
       "  clip: rect(1px, 1px, 1px, 1px);\n",
       "  height: 1px;\n",
       "  margin: -1px;\n",
       "  overflow: hidden;\n",
       "  padding: 0;\n",
       "  position: absolute;\n",
       "  width: 1px;\n",
       "}\n",
       "\n",
       "#sk-container-id-2 div.sk-dashed-wrapped {\n",
       "  border: 1px dashed var(--sklearn-color-line);\n",
       "  margin: 0 0.4em 0.5em 0.4em;\n",
       "  box-sizing: border-box;\n",
       "  padding-bottom: 0.4em;\n",
       "  background-color: var(--sklearn-color-background);\n",
       "}\n",
       "\n",
       "#sk-container-id-2 div.sk-container {\n",
       "  /* jupyter's `normalize.less` sets `[hidden] { display: none; }`\n",
       "     but bootstrap.min.css set `[hidden] { display: none !important; }`\n",
       "     so we also need the `!important` here to be able to override the\n",
       "     default hidden behavior on the sphinx rendered scikit-learn.org.\n",
       "     See: https://github.com/scikit-learn/scikit-learn/issues/21755 */\n",
       "  display: inline-block !important;\n",
       "  position: relative;\n",
       "}\n",
       "\n",
       "#sk-container-id-2 div.sk-text-repr-fallback {\n",
       "  display: none;\n",
       "}\n",
       "\n",
       "div.sk-parallel-item,\n",
       "div.sk-serial,\n",
       "div.sk-item {\n",
       "  /* draw centered vertical line to link estimators */\n",
       "  background-image: linear-gradient(var(--sklearn-color-text-on-default-background), var(--sklearn-color-text-on-default-background));\n",
       "  background-size: 2px 100%;\n",
       "  background-repeat: no-repeat;\n",
       "  background-position: center center;\n",
       "}\n",
       "\n",
       "/* Parallel-specific style estimator block */\n",
       "\n",
       "#sk-container-id-2 div.sk-parallel-item::after {\n",
       "  content: \"\";\n",
       "  width: 100%;\n",
       "  border-bottom: 2px solid var(--sklearn-color-text-on-default-background);\n",
       "  flex-grow: 1;\n",
       "}\n",
       "\n",
       "#sk-container-id-2 div.sk-parallel {\n",
       "  display: flex;\n",
       "  align-items: stretch;\n",
       "  justify-content: center;\n",
       "  background-color: var(--sklearn-color-background);\n",
       "  position: relative;\n",
       "}\n",
       "\n",
       "#sk-container-id-2 div.sk-parallel-item {\n",
       "  display: flex;\n",
       "  flex-direction: column;\n",
       "}\n",
       "\n",
       "#sk-container-id-2 div.sk-parallel-item:first-child::after {\n",
       "  align-self: flex-end;\n",
       "  width: 50%;\n",
       "}\n",
       "\n",
       "#sk-container-id-2 div.sk-parallel-item:last-child::after {\n",
       "  align-self: flex-start;\n",
       "  width: 50%;\n",
       "}\n",
       "\n",
       "#sk-container-id-2 div.sk-parallel-item:only-child::after {\n",
       "  width: 0;\n",
       "}\n",
       "\n",
       "/* Serial-specific style estimator block */\n",
       "\n",
       "#sk-container-id-2 div.sk-serial {\n",
       "  display: flex;\n",
       "  flex-direction: column;\n",
       "  align-items: center;\n",
       "  background-color: var(--sklearn-color-background);\n",
       "  padding-right: 1em;\n",
       "  padding-left: 1em;\n",
       "}\n",
       "\n",
       "\n",
       "/* Toggleable style: style used for estimator/Pipeline/ColumnTransformer box that is\n",
       "clickable and can be expanded/collapsed.\n",
       "- Pipeline and ColumnTransformer use this feature and define the default style\n",
       "- Estimators will overwrite some part of the style using the `sk-estimator` class\n",
       "*/\n",
       "\n",
       "/* Pipeline and ColumnTransformer style (default) */\n",
       "\n",
       "#sk-container-id-2 div.sk-toggleable {\n",
       "  /* Default theme specific background. It is overwritten whether we have a\n",
       "  specific estimator or a Pipeline/ColumnTransformer */\n",
       "  background-color: var(--sklearn-color-background);\n",
       "}\n",
       "\n",
       "/* Toggleable label */\n",
       "#sk-container-id-2 label.sk-toggleable__label {\n",
       "  cursor: pointer;\n",
       "  display: block;\n",
       "  width: 100%;\n",
       "  margin-bottom: 0;\n",
       "  padding: 0.5em;\n",
       "  box-sizing: border-box;\n",
       "  text-align: center;\n",
       "}\n",
       "\n",
       "#sk-container-id-2 label.sk-toggleable__label-arrow:before {\n",
       "  /* Arrow on the left of the label */\n",
       "  content: \"▸\";\n",
       "  float: left;\n",
       "  margin-right: 0.25em;\n",
       "  color: var(--sklearn-color-icon);\n",
       "}\n",
       "\n",
       "#sk-container-id-2 label.sk-toggleable__label-arrow:hover:before {\n",
       "  color: var(--sklearn-color-text);\n",
       "}\n",
       "\n",
       "/* Toggleable content - dropdown */\n",
       "\n",
       "#sk-container-id-2 div.sk-toggleable__content {\n",
       "  max-height: 0;\n",
       "  max-width: 0;\n",
       "  overflow: hidden;\n",
       "  text-align: left;\n",
       "  /* unfitted */\n",
       "  background-color: var(--sklearn-color-unfitted-level-0);\n",
       "}\n",
       "\n",
       "#sk-container-id-2 div.sk-toggleable__content.fitted {\n",
       "  /* fitted */\n",
       "  background-color: var(--sklearn-color-fitted-level-0);\n",
       "}\n",
       "\n",
       "#sk-container-id-2 div.sk-toggleable__content pre {\n",
       "  margin: 0.2em;\n",
       "  border-radius: 0.25em;\n",
       "  color: var(--sklearn-color-text);\n",
       "  /* unfitted */\n",
       "  background-color: var(--sklearn-color-unfitted-level-0);\n",
       "}\n",
       "\n",
       "#sk-container-id-2 div.sk-toggleable__content.fitted pre {\n",
       "  /* unfitted */\n",
       "  background-color: var(--sklearn-color-fitted-level-0);\n",
       "}\n",
       "\n",
       "#sk-container-id-2 input.sk-toggleable__control:checked~div.sk-toggleable__content {\n",
       "  /* Expand drop-down */\n",
       "  max-height: 200px;\n",
       "  max-width: 100%;\n",
       "  overflow: auto;\n",
       "}\n",
       "\n",
       "#sk-container-id-2 input.sk-toggleable__control:checked~label.sk-toggleable__label-arrow:before {\n",
       "  content: \"▾\";\n",
       "}\n",
       "\n",
       "/* Pipeline/ColumnTransformer-specific style */\n",
       "\n",
       "#sk-container-id-2 div.sk-label input.sk-toggleable__control:checked~label.sk-toggleable__label {\n",
       "  color: var(--sklearn-color-text);\n",
       "  background-color: var(--sklearn-color-unfitted-level-2);\n",
       "}\n",
       "\n",
       "#sk-container-id-2 div.sk-label.fitted input.sk-toggleable__control:checked~label.sk-toggleable__label {\n",
       "  background-color: var(--sklearn-color-fitted-level-2);\n",
       "}\n",
       "\n",
       "/* Estimator-specific style */\n",
       "\n",
       "/* Colorize estimator box */\n",
       "#sk-container-id-2 div.sk-estimator input.sk-toggleable__control:checked~label.sk-toggleable__label {\n",
       "  /* unfitted */\n",
       "  background-color: var(--sklearn-color-unfitted-level-2);\n",
       "}\n",
       "\n",
       "#sk-container-id-2 div.sk-estimator.fitted input.sk-toggleable__control:checked~label.sk-toggleable__label {\n",
       "  /* fitted */\n",
       "  background-color: var(--sklearn-color-fitted-level-2);\n",
       "}\n",
       "\n",
       "#sk-container-id-2 div.sk-label label.sk-toggleable__label,\n",
       "#sk-container-id-2 div.sk-label label {\n",
       "  /* The background is the default theme color */\n",
       "  color: var(--sklearn-color-text-on-default-background);\n",
       "}\n",
       "\n",
       "/* On hover, darken the color of the background */\n",
       "#sk-container-id-2 div.sk-label:hover label.sk-toggleable__label {\n",
       "  color: var(--sklearn-color-text);\n",
       "  background-color: var(--sklearn-color-unfitted-level-2);\n",
       "}\n",
       "\n",
       "/* Label box, darken color on hover, fitted */\n",
       "#sk-container-id-2 div.sk-label.fitted:hover label.sk-toggleable__label.fitted {\n",
       "  color: var(--sklearn-color-text);\n",
       "  background-color: var(--sklearn-color-fitted-level-2);\n",
       "}\n",
       "\n",
       "/* Estimator label */\n",
       "\n",
       "#sk-container-id-2 div.sk-label label {\n",
       "  font-family: monospace;\n",
       "  font-weight: bold;\n",
       "  display: inline-block;\n",
       "  line-height: 1.2em;\n",
       "}\n",
       "\n",
       "#sk-container-id-2 div.sk-label-container {\n",
       "  text-align: center;\n",
       "}\n",
       "\n",
       "/* Estimator-specific */\n",
       "#sk-container-id-2 div.sk-estimator {\n",
       "  font-family: monospace;\n",
       "  border: 1px dotted var(--sklearn-color-border-box);\n",
       "  border-radius: 0.25em;\n",
       "  box-sizing: border-box;\n",
       "  margin-bottom: 0.5em;\n",
       "  /* unfitted */\n",
       "  background-color: var(--sklearn-color-unfitted-level-0);\n",
       "}\n",
       "\n",
       "#sk-container-id-2 div.sk-estimator.fitted {\n",
       "  /* fitted */\n",
       "  background-color: var(--sklearn-color-fitted-level-0);\n",
       "}\n",
       "\n",
       "/* on hover */\n",
       "#sk-container-id-2 div.sk-estimator:hover {\n",
       "  /* unfitted */\n",
       "  background-color: var(--sklearn-color-unfitted-level-2);\n",
       "}\n",
       "\n",
       "#sk-container-id-2 div.sk-estimator.fitted:hover {\n",
       "  /* fitted */\n",
       "  background-color: var(--sklearn-color-fitted-level-2);\n",
       "}\n",
       "\n",
       "/* Specification for estimator info (e.g. \"i\" and \"?\") */\n",
       "\n",
       "/* Common style for \"i\" and \"?\" */\n",
       "\n",
       ".sk-estimator-doc-link,\n",
       "a:link.sk-estimator-doc-link,\n",
       "a:visited.sk-estimator-doc-link {\n",
       "  float: right;\n",
       "  font-size: smaller;\n",
       "  line-height: 1em;\n",
       "  font-family: monospace;\n",
       "  background-color: var(--sklearn-color-background);\n",
       "  border-radius: 1em;\n",
       "  height: 1em;\n",
       "  width: 1em;\n",
       "  text-decoration: none !important;\n",
       "  margin-left: 1ex;\n",
       "  /* unfitted */\n",
       "  border: var(--sklearn-color-unfitted-level-1) 1pt solid;\n",
       "  color: var(--sklearn-color-unfitted-level-1);\n",
       "}\n",
       "\n",
       ".sk-estimator-doc-link.fitted,\n",
       "a:link.sk-estimator-doc-link.fitted,\n",
       "a:visited.sk-estimator-doc-link.fitted {\n",
       "  /* fitted */\n",
       "  border: var(--sklearn-color-fitted-level-1) 1pt solid;\n",
       "  color: var(--sklearn-color-fitted-level-1);\n",
       "}\n",
       "\n",
       "/* On hover */\n",
       "div.sk-estimator:hover .sk-estimator-doc-link:hover,\n",
       ".sk-estimator-doc-link:hover,\n",
       "div.sk-label-container:hover .sk-estimator-doc-link:hover,\n",
       ".sk-estimator-doc-link:hover {\n",
       "  /* unfitted */\n",
       "  background-color: var(--sklearn-color-unfitted-level-3);\n",
       "  color: var(--sklearn-color-background);\n",
       "  text-decoration: none;\n",
       "}\n",
       "\n",
       "div.sk-estimator.fitted:hover .sk-estimator-doc-link.fitted:hover,\n",
       ".sk-estimator-doc-link.fitted:hover,\n",
       "div.sk-label-container:hover .sk-estimator-doc-link.fitted:hover,\n",
       ".sk-estimator-doc-link.fitted:hover {\n",
       "  /* fitted */\n",
       "  background-color: var(--sklearn-color-fitted-level-3);\n",
       "  color: var(--sklearn-color-background);\n",
       "  text-decoration: none;\n",
       "}\n",
       "\n",
       "/* Span, style for the box shown on hovering the info icon */\n",
       ".sk-estimator-doc-link span {\n",
       "  display: none;\n",
       "  z-index: 9999;\n",
       "  position: relative;\n",
       "  font-weight: normal;\n",
       "  right: .2ex;\n",
       "  padding: .5ex;\n",
       "  margin: .5ex;\n",
       "  width: min-content;\n",
       "  min-width: 20ex;\n",
       "  max-width: 50ex;\n",
       "  color: var(--sklearn-color-text);\n",
       "  box-shadow: 2pt 2pt 4pt #999;\n",
       "  /* unfitted */\n",
       "  background: var(--sklearn-color-unfitted-level-0);\n",
       "  border: .5pt solid var(--sklearn-color-unfitted-level-3);\n",
       "}\n",
       "\n",
       ".sk-estimator-doc-link.fitted span {\n",
       "  /* fitted */\n",
       "  background: var(--sklearn-color-fitted-level-0);\n",
       "  border: var(--sklearn-color-fitted-level-3);\n",
       "}\n",
       "\n",
       ".sk-estimator-doc-link:hover span {\n",
       "  display: block;\n",
       "}\n",
       "\n",
       "/* \"?\"-specific style due to the `<a>` HTML tag */\n",
       "\n",
       "#sk-container-id-2 a.estimator_doc_link {\n",
       "  float: right;\n",
       "  font-size: 1rem;\n",
       "  line-height: 1em;\n",
       "  font-family: monospace;\n",
       "  background-color: var(--sklearn-color-background);\n",
       "  border-radius: 1rem;\n",
       "  height: 1rem;\n",
       "  width: 1rem;\n",
       "  text-decoration: none;\n",
       "  /* unfitted */\n",
       "  color: var(--sklearn-color-unfitted-level-1);\n",
       "  border: var(--sklearn-color-unfitted-level-1) 1pt solid;\n",
       "}\n",
       "\n",
       "#sk-container-id-2 a.estimator_doc_link.fitted {\n",
       "  /* fitted */\n",
       "  border: var(--sklearn-color-fitted-level-1) 1pt solid;\n",
       "  color: var(--sklearn-color-fitted-level-1);\n",
       "}\n",
       "\n",
       "/* On hover */\n",
       "#sk-container-id-2 a.estimator_doc_link:hover {\n",
       "  /* unfitted */\n",
       "  background-color: var(--sklearn-color-unfitted-level-3);\n",
       "  color: var(--sklearn-color-background);\n",
       "  text-decoration: none;\n",
       "}\n",
       "\n",
       "#sk-container-id-2 a.estimator_doc_link.fitted:hover {\n",
       "  /* fitted */\n",
       "  background-color: var(--sklearn-color-fitted-level-3);\n",
       "}\n",
       "</style><div id=\"sk-container-id-2\" class=\"sk-top-container\"><div class=\"sk-text-repr-fallback\"><pre>LogisticRegression()</pre><b>In a Jupyter environment, please rerun this cell to show the HTML representation or trust the notebook. <br />On GitHub, the HTML representation is unable to render, please try loading this page with nbviewer.org.</b></div><div class=\"sk-container\" hidden><div class=\"sk-item\"><div class=\"sk-estimator fitted sk-toggleable\"><input class=\"sk-toggleable__control sk-hidden--visually\" id=\"sk-estimator-id-2\" type=\"checkbox\" checked><label for=\"sk-estimator-id-2\" class=\"sk-toggleable__label fitted sk-toggleable__label-arrow fitted\">&nbsp;&nbsp;LogisticRegression<a class=\"sk-estimator-doc-link fitted\" rel=\"noreferrer\" target=\"_blank\" href=\"https://scikit-learn.org/1.5/modules/generated/sklearn.linear_model.LogisticRegression.html\">?<span>Documentation for LogisticRegression</span></a><span class=\"sk-estimator-doc-link fitted\">i<span>Fitted</span></span></label><div class=\"sk-toggleable__content fitted\"><pre>LogisticRegression()</pre></div> </div></div></div></div>"
      ],
      "text/plain": [
       "LogisticRegression()"
      ]
     },
     "execution_count": 43,
     "metadata": {},
     "output_type": "execute_result"
    }
   ],
   "source": [
    "# Train a logistic regression model\n",
    "model = LogisticRegression()\n",
    "model.fit(X_train, y_train)"
   ]
  },
  {
   "cell_type": "code",
   "execution_count": 44,
   "metadata": {},
   "outputs": [],
   "source": [
    "# make point predictions and obtain class scores on the calibration and test sets\n",
    "y_pred_calib = model.predict(X_calib)\n",
    "y_pred_score_calib = model.predict_proba(X_calib)\n",
    "\n",
    "y_pred_test = model.predict(X_test)\n",
    "y_pred_score_test = model.predict_proba(X_test)"
   ]
  },
  {
   "cell_type": "code",
   "execution_count": 45,
   "metadata": {},
   "outputs": [
    {
     "name": "stdout",
     "output_type": "stream",
     "text": [
      "Classification accuracy on the test: 0.8903333333333333\n",
      "ROC AUC on the test set: 0.7864764320030457\n"
     ]
    }
   ],
   "source": [
    "print('Classification accuracy on the test: {}'.format(accuracy_score(y_test, y_pred_test)))\n",
    "print('ROC AUC on the test set: {}'.format(roc_auc_score(y_test, y_pred_score_test[:,1])))"
   ]
  },
  {
   "cell_type": "markdown",
   "metadata": {},
   "source": [
    "#### Compute non-conformity"
   ]
  },
  {
   "cell_type": "code",
   "execution_count": 49,
   "metadata": {},
   "outputs": [],
   "source": [
    "def InverseProbabilityNC(predicted_score, y):\n",
    "    '''\n",
    "    predicted_score:\n",
    "        - n x k array, where n is the number of obs in the training set plus the new observation, and k is the number of possible classes\n",
    "    y:\n",
    "        - (n+1,) array, containing outcomes of the n observations in the training set plus the assumed outcome for the 1 new observation \n",
    "    '''\n",
    "    prob = np.zeros(y.size, dtype=np.float32)\n",
    "  \n",
    "    ## Looping across all n+1 observed/assumed outcomes\n",
    "    for i, y_ in enumerate(y):\n",
    "        \n",
    "        ## Error handling: If outcome label falls outside of the prediction scope (i.e. outside the k possible outcomes defined in the prediction), store probability as 0\n",
    "        if y_ >= predicted_score.shape[1]:  \n",
    "            prob[i] = 0\n",
    "\n",
    "        ## Otherwise, record the predicted probability of that particular class\n",
    "        else:\n",
    "            prob[i] = predicted_score[i, int(y_)]\n",
    "\n",
    "    ## Hinge loss is computed as 1 - predicted probability of the correct class\n",
    "    return 1 - prob\n",
    "\n",
    "def compute_p_value(non_conformity_scores_train, non_conformity_scores_test):\n",
    "    '''\n",
    "    non_conformity_scores_train:\n",
    "        - The nonconformity scores computed from the n observations in the training set\n",
    "    \n",
    "    non_conformity_scores_test:\n",
    "        - The nonconformity score computed from the 1 observation we want to test\n",
    "    '''\n",
    "    p_values = []\n",
    "    if not isinstance(non_conformity_scores_test, list):\n",
    "        non_conformity_scores_test = [non_conformity_scores_test]\n",
    "\n",
    "    for i, test_point_conformity_score in enumerate(non_conformity_scores_test):\n",
    "        p_value = (np.sum(non_conformity_scores_train >= test_point_conformity_score) + 1) / (len(non_conformity_scores_train)+1)\n",
    "        p_values.append(p_value)  \n",
    "    return np.array(p_values)"
   ]
  },
  {
   "cell_type": "code",
   "execution_count": 50,
   "metadata": {},
   "outputs": [],
   "source": [
    "non_conformity_scores_calibration = InverseProbabilityNC(y_pred_score_calib,y_calib)"
   ]
  },
  {
   "cell_type": "code",
   "execution_count": 59,
   "metadata": {},
   "outputs": [
    {
     "name": "stdout",
     "output_type": "stream",
     "text": [
      "p-value for class 0: [0.93737508], p-value for class 1: [0.00233178]\n"
     ]
    }
   ],
   "source": [
    "new_observation_index = 0\n",
    "\n",
    "non_conformity_scores_y_test_class_0 = 1 - y_pred_score_test[new_observation_index,0]\n",
    "non_conformity_scores_y_test_class_1 = 1 - y_pred_score_test[new_observation_index,1]\n",
    "\n",
    "non_conformity_scores_calib_plus_test_0 = np.append(non_conformity_scores_calibration, non_conformity_scores_y_test_class_0)\n",
    "non_conformity_scores_calib_plus_test_1 = np.append(non_conformity_scores_calibration, non_conformity_scores_y_test_class_1)\n",
    "\n",
    "# compute p-value of the test point twice, each time assigning potential label 0 and 1\n",
    "p_value_class_0 = compute_p_value(non_conformity_scores_calib_plus_test_0, non_conformity_scores_y_test_class_0)\n",
    "p_value_class_1 = compute_p_value(non_conformity_scores_calib_plus_test_0, non_conformity_scores_y_test_class_1)\n",
    "\n",
    "print('p-value for class 0: {}, p-value for class 1: {}'.format(p_value_class_0,p_value_class_1))"
   ]
  },
  {
   "cell_type": "markdown",
   "metadata": {},
   "source": [
    "#### Plot nonconformity distribution"
   ]
  },
  {
   "cell_type": "code",
   "execution_count": 60,
   "metadata": {},
   "outputs": [
    {
     "data": {
      "image/png": "[encoded data removed]",
      "text/plain": [
       "<Figure size 960x640 with 1 Axes>"
      ]
     },
     "metadata": {},
     "output_type": "display_data"
    }
   ],
   "source": [
    "# plot distribution of nonconformity score for both situations\n",
    "\n",
    "plt.figure(figsize=(12, 8), dpi=80)\n",
    "plt.hist(np.sort(non_conformity_scores_calibration), label='Calibration set', alpha=0.6)\n",
    "# single line\n",
    "plt.vlines(x = non_conformity_scores_y_test_class_0, ymin = 0, ymax = 175, colors = 'green',\n",
    "           label = 'Nonconformity score for Class 0')\n",
    "\n",
    "plt.vlines(x = non_conformity_scores_y_test_class_1, ymin = 0, ymax = 175, colors = 'red',\n",
    "           label = 'Nonconformity score for Class 1')\n",
    "\n",
    "plt.grid(True)\n",
    "plt.ylabel('Nonconformity value')\n",
    "plt.title('Distribution of nonconformity values')\n",
    "\n",
    "plt.legend( loc='upper right')\n",
    "plt.show()"
   ]
  },
  {
   "cell_type": "markdown",
   "metadata": {},
   "source": [
    "#### Prediction set for all values in test"
   ]
  },
  {
   "cell_type": "code",
   "execution_count": 23,
   "metadata": {},
   "outputs": [],
   "source": [
    "def prediction_sets(X_train, y_train, X_calib, y_calib, X_test, y_test, model = LogisticRegression(), significance_level = 0.05):\n",
    "    prediction_sets = []\n",
    "    p_values_class_0 = []\n",
    "    p_values_class_1 = []\n",
    "\n",
    "    model.fit(X_train, y_train)\n",
    "\n",
    "    # make point predictions and obtain class scores on the calibration and test sets\n",
    "    y_pred_calib = model.predict(X_calib)\n",
    "    y_pred_score_calib = model.predict_proba(X_calib)\n",
    "\n",
    "    y_pred_test = model.predict(X_test)\n",
    "    y_pred_score_test = model.predict_proba(X_test)\n",
    "\n",
    "    for i,y in enumerate(y_test):\n",
    "        # compute nonconformity scores for each test trying both potential labels - 0 & 1\n",
    "        non_conformity_scores_y_test_class_0 = 1 - y_pred_score_test[i,0]\n",
    "        non_conformity_scores_y_test_class_1 = 1 - y_pred_score_test[i,1]\n",
    "\n",
    "        # compute p-value of the test point twice, each time assigning potential label 0 and 1\n",
    "        p_value_class_0 = compute_p_value(non_conformity_scores_calib_plus_test_0, non_conformity_scores_y_test_class_0)\n",
    "        p_value_class_1 = compute_p_value(non_conformity_scores_calib_plus_test_0, non_conformity_scores_y_test_class_1)\n",
    "\n",
    "        p_values_class_0.append( p_value_class_0)\n",
    "        p_values_class_1.append( p_value_class_1)\n",
    "\n",
    "        if (p_value_class_0 > significance_level) and (p_value_class_1 > significance_level):\n",
    "            prediction_sets.append([True,True])\n",
    "        elif (p_value_class_0 > significance_level) and (p_value_class_1 <= significance_level):\n",
    "            prediction_sets.append([True,False])\n",
    "        elif (p_value_class_0 <= significance_level) and (p_value_class_1 >significance_level):\n",
    "            prediction_sets.append([False,True])\n",
    "        else:\n",
    "            prediction_sets.append([False,False])\n",
    "\n",
    "    return prediction_sets, p_values_class_0, p_values_class_1"
   ]
  },
  {
   "cell_type": "code",
   "execution_count": 24,
   "metadata": {},
   "outputs": [],
   "source": [
    "predictions_test_sets, p_values_test_set_class_0, p_values_test_set_class_1 = prediction_sets(X_train, y_train, X_calib, y_calib, X_test, y_test, model = LogisticRegression(), significance_level = 0.05)"
   ]
  },
  {
   "cell_type": "markdown",
   "metadata": {},
   "source": [
    "#### Compare with open source package"
   ]
  },
  {
   "cell_type": "markdown",
   "metadata": {},
   "source": [
    "- The above implements ICP manually. Let's see if the open source package gives the same answer!"
   ]
  },
  {
   "cell_type": "code",
   "execution_count": 25,
   "metadata": {},
   "outputs": [],
   "source": [
    "icp = IcpClassifier(ClassifierNc(ClassifierAdapter(LogisticRegression()), MarginErrFunc()))\n",
    "\n",
    "# Fit the ICP using the proper training set\n",
    "icp.fit(X_train, y_train)\n",
    "\n",
    "# Calibrate the ICP using the calibraiton set\n",
    "icp.calibrate(X_calib, y_calib)\n",
    "\n",
    "# Produce predictions for the test set, with confidence 95%\n",
    "prediction = icp.predict(X_test.values, significance=0.05)"
   ]
  },
  {
   "cell_type": "code",
   "execution_count": 27,
   "metadata": {},
   "outputs": [
    {
     "name": "stdout",
     "output_type": "stream",
     "text": [
      "all good!\n"
     ]
    }
   ],
   "source": [
    "for my_pred, package_pred in zip(predictions_test_sets, prediction):\n",
    "    if all(my_pred != package_pred):\n",
    "        raise ValueError('NOT EQUAL')\n",
    "    \n",
    "print('all good!')"
   ]
  },
  {
   "cell_type": "markdown",
   "metadata": {},
   "source": [
    "### Resources"
   ]
  },
  {
   "cell_type": "markdown",
   "metadata": {},
   "source": [
    "- Venn-ABERS NeurIPS paper: https://papers.nips.cc/paper_files/paper/2015/hash/a9a1d5317a33ae8cef33961c34144f84-Abstract.html\n",
    "- Comparison of different calibration methods: http://www.diva-portal.org/smash/get/diva2:1603345/FULLTEXT01.pdf"
   ]
  }
 ],
 "metadata": {
  "kernelspec": {
   "display_name": "data-science-SgH_SThs-py3.12",
   "language": "python",
   "name": "python3"
  },
  "language_info": {
   "codemirror_mode": {
    "name": "ipython",
    "version": 3
   },
   "file_extension": ".py",
   "mimetype": "text/x-python",
   "name": "python",
   "nbconvert_exporter": "python",
   "pygments_lexer": "ipython3",
   "version": "3.12.6"
  }
 },
 "nbformat": 4,
 "nbformat_minor": 2
}
