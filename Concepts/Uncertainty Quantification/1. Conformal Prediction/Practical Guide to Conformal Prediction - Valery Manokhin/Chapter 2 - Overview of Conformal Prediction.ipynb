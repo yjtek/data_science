{
 "cells": [
  {
   "cell_type": "markdown",
   "metadata": {},
   "source": [
    "## Chapter 2: Overview of Conformal Prediction"
   ]
  },
  {
   "cell_type": "markdown",
   "metadata": {},
   "source": [
    "### Why CP"
   ]
  },
  {
   "cell_type": "markdown",
   "metadata": {},
   "source": [
    "- Conformal prediction deals with quantifying uncertainty\n",
    "\n",
    "- There are 2 types of uncertainty:\n",
    "    - Aleatoric uncertainty: Aleatoric uncertainty arises from the randomness and inherent unpredictability of the system being studied\n",
    "        - Rolling a dice: you know the probability of each side, but you can't predict outcome with certainty\n",
    "        - Weather forecasting: Inherent randomness in weather processes, although I'd probably say this is a mix of epistemic uncertainty too\n",
    "        - Stock market fluctuations: Probably both aleatoric and epistemic\n",
    "        - Traffic flow: Probably both aleatoric and epistemic\n",
    "    - Epistemic uncertainty: Epistemic uncertainty arises from our lack of knowledge about the system\n",
    "        - Medical diagnosis: Even with perfect knowledge of patient's state, you may not know enough about the disease\n",
    "        - Financial forecasting\n",
    "        - Natural disaster prediction\n",
    "\n",
    "- If you want a shorthand for this;\n",
    "    - Aleatoric uncertainty is when you have data, but the variance is super high so you can't model well\n",
    "    - Epistemic uncertainty is when you have no data"
   ]
  },
  {
   "cell_type": "markdown",
   "metadata": {},
   "source": [
    "### Where does uncertainty come from?"
   ]
  },
  {
   "cell_type": "markdown",
   "metadata": {},
   "source": [
    "- Data uncertainty\n",
    "    - This includes measurement errors, missing values, and variability in the data. Data might be collected under different conditions or sources, adding more uncertainty to the dataset.\n",
    "\n",
    "- Model uncertainty \n",
    "    - This comes from the model’s inability to precisely capture the proper relationship between predictors and the outcome. Every model makes certain assumptions (for example, linearity, independence, normality, and so on), and any violation of these assumptions introduces uncertainty.\n",
    "\n",
    "- Parameter uncertainty\n",
    "    - Every regression model involves estimating parameters (for example, coefficients). There’s always some uncertainty about these estimates, which can contribute to the overall uncertainty in predictions.\n",
    "    \n",
    "- Structural uncertainty\n",
    "    - This refers to uncertainty due to the choice of a specific model form. Different model structures or types (for example, linear regression, polynomial regression, and so on) might lead to different interpretations and predictions.\n",
    "\n",
    "- Residual uncertainty\n",
    "    - This comes from the residuals or errors of the model. It represents the difference between the observed outcomes and the outcomes predicted by the model."
   ]
  },
  {
   "cell_type": "markdown",
   "metadata": {},
   "source": []
  }
 ],
 "metadata": {
  "language_info": {
   "name": "python"
  }
 },
 "nbformat": 4,
 "nbformat_minor": 2
}
