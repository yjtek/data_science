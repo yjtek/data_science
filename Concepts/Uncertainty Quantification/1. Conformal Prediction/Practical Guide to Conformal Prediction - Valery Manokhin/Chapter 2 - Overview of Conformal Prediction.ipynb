{
 "cells": [
  {
   "cell_type": "markdown",
   "metadata": {},
   "source": [
    "## Chapter 2: Overview of Conformal Prediction"
   ]
  },
  {
   "cell_type": "markdown",
   "metadata": {},
   "source": [
    "- Conformal prediction deals with quantifying uncertainty\n",
    "\n",
    "- There are 2 types of uncertainty:\n",
    "    - Aleatoric uncertainty: Aleatoric uncertainty arises from the randomness and inherent unpredictability of the system being studied\n",
    "        - Rolling a dice: you know the probability of each side, but you can't predict outcome with certainty\n",
    "        - Weather forecasting: Inherent randomness in weather processes, although I'd probably say this is a mix of epistemic uncertainty too\n",
    "        - Stock market fluctuations: Probably both aleatoric and epistemic\n",
    "        - Traffic flow: Probably both aleatoric and epistemic\n",
    "    - Epistemic uncertainty: Epistemic uncertainty arises from our lack of knowledge about the system\n",
    "        - Medical diagnosis: Even with perfect knowledge of patient's state, you may not know enough about the disease\n",
    "        - Financial forecasting\n",
    "        - Natural disaster prediction\n",
    "\n",
    "- If you want a shorthand for this;\n",
    "    - Aleatoric uncertainty is when you have data, but the variance is super high so you can't model well\n",
    "    - Epistemic uncertainty is when you have no data"
   ]
  }
 ],
 "metadata": {
  "language_info": {
   "name": "python"
  }
 },
 "nbformat": 4,
 "nbformat_minor": 2
}
