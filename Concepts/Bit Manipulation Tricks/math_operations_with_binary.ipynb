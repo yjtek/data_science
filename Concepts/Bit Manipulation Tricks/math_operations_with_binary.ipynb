{
 "cells": [
  {
   "cell_type": "markdown",
   "metadata": {},
   "source": [
    "## Mathematical Operations without built in `+` / `-` / `*` / `/`"
   ]
  },
  {
   "cell_type": "markdown",
   "metadata": {},
   "source": [
    "- An interesting application of bit manipulation techniques is how it can be applied to perform mathematical operations without the use of built in symbols\n",
    "\n",
    "- I'm not sure when you'll ever want to do something like this, but it's a fun exercise nonetheless"
   ]
  },
  {
   "cell_type": "markdown",
   "metadata": {},
   "source": [
    "### Example (Addition)"
   ]
  },
  {
   "cell_type": "markdown",
   "metadata": {},
   "source": [
    "- Let's imagine we want to do `15 + 11`\n",
    "\n",
    "- In binary:\n",
    "    - `11` = `1011`\n",
    "    - `15` = `1111`\n",
    "\n",
    "- We know that the answer is\n",
    "    - `15 + 11 = 26` = `11010`\n",
    "\n",
    "- Let's think through what it means to add in binary\n",
    "    - Cases\n",
    "        1. For any position `i`, if value for both binary numbers are 1, then the final answer must have a value of `1` in position `i+1`, and 0 in position `i`\n",
    "            - That is `001` + `001` = `010` by definition (because each i+1 position is double the value of each `i` position)\n",
    "\n",
    "        2. For any position `i`, if value for both binary numbers are 0, then the final answer must have a value of 0 in position `i`\n",
    "\n",
    "        3. For any position `i`, if there is one 1 and one 0, then the final answer must have a value of 1 in position `i`\n",
    "\n",
    "    - This simply means, for any position `i`, we need an `XOR` operator for the binary representation\n",
    "\n",
    "- Let's try the `XOR` approach\n",
    "    - `1011 ^ 1111 = 0100` = 4 \n",
    "\n",
    "- Hey, `XOR` gives us the wrong answer!! Why?\n",
    "    - Because, we are neglecting an important part of the addition operation; we may have values to carry forward!\n",
    "    - For example, if we XOR two 1s, the addition will give us a 2, which will require us to carry a value forward one position\n",
    "\n",
    "- How do we operationally do this carry forward using binary?\n",
    "    - Simple! We only ever need to carry stuff forward when we have two 1s. In all other cases, there is no carry forward\n",
    "    - That is, we take a binary `&` to find the indices where carry forward is needed\n",
    "    - Then, to add them with our `XOR` result, we simply do a rightshift to move the carry values to the correct indices\n",
    "        - i.e. if I have two 1s in position `i`, I need to add 1 in position `i+1`\n",
    "\n",
    "- We keep doing this until the binary `&` gives us 0, and that's when we know there is nothign else to carry forward. Then we just return the `XOR`"
   ]
  },
  {
   "cell_type": "code",
   "execution_count": 44,
   "metadata": {},
   "outputs": [
    {
     "data": {
      "text/plain": [
       "20"
      ]
     },
     "execution_count": 44,
     "metadata": {},
     "output_type": "execute_result"
    }
   ],
   "source": [
    "a = 9\n",
    "b = 11\n",
    "\n",
    "while b:\n",
    "    a, b = a^b, (a&b)<<1\n",
    "a"
   ]
  },
  {
   "cell_type": "markdown",
   "metadata": {},
   "source": [
    "### Example (Subtraction)"
   ]
  },
  {
   "cell_type": "markdown",
   "metadata": {},
   "source": [
    "- Let's imagine we want to do `22 - 6`\n",
    "\n",
    "- In binary:\n",
    "    - `22` = `10110`\n",
    "    - `9` = `01001`\n",
    "\n",
    "- We know that the answer is\n",
    "    - `22 - 9 = 13` = `01101`\n",
    "\n",
    "- Let's think through what it means to subtract in binary\n",
    "    - Cases\n",
    "        1. For any position `i`, if value for both binary numbers are equal (1,1 or 0,0), then the final answer must have a value of `0` in position `i`\n",
    "            - `001` - `001` = `000` \n",
    "            - `000` - `000` = `000` \n",
    "\n",
    "        2. For any position `i`, if value is (1, 0), then the final answer must have a value of 1 in position `i`\n",
    "            - `001` - `000` = `001` \n",
    "\n",
    "        3. For any position `i`, if there is (0, 1), then the final answer must have a value of 1 in position `i`, but subtracting 1 from position `i+1`\n",
    "            - `101` - `010` = `011`\n",
    "\n",
    "- So again, the idea of taking `a ^ b` remains!\n",
    "\n",
    "- Unlike addition, instead of \"carrying forward\", we need to \"borrow\"\n",
    "    - Recall that in addition, each time we see a (1,1), we take a logical `&`, then left shift it by 1\n",
    "\n",
    "- This time, each time we see a (0,1), we left shift by 1"
   ]
  },
  {
   "cell_type": "markdown",
   "metadata": {},
   "source": [
    "- Working through `22-9`\n",
    "    - Iter 1: \n",
    "        - a = `10110 ^ 01001 = 11111`\n",
    "        - b = `(~10110 & 01001) << 1 = (01001 & 01001) << 1 = (01001) << 1 = 10010`\n",
    "    - Iter 2:\n",
    "        - a = `11111 ^ 10010 = 01101`\n",
    "        - b = `(~11111 & 10010) << 1 = (00000 & 10010) << 1 = (00000) << 1 = 000000`\n",
    "    - End, a = 13"
   ]
  },
  {
   "cell_type": "markdown",
   "metadata": {},
   "source": [
    "- Intuitively, each \"borrow\" corrects 1 position of (0,1)\n",
    "- In the worst case, you only need to propagate the one leftwards $N$ times, where $N$ is the length of the binary string"
   ]
  },
  {
   "cell_type": "code",
   "execution_count": 53,
   "metadata": {},
   "outputs": [
    {
     "name": "stdout",
     "output_type": "stream",
     "text": [
      "22 9\n",
      "31 18\n",
      "31 18\n",
      "13 0\n"
     ]
    },
    {
     "data": {
      "text/plain": [
       "13"
      ]
     },
     "execution_count": 53,
     "metadata": {},
     "output_type": "execute_result"
    }
   ],
   "source": [
    "a = 22\n",
    "b = 9 \n",
    "\n",
    "while b:\n",
    "    ## Perform xor, same as addition\n",
    "    ## But unlike addition, where we applied & and left shifted to find the carry forward \n",
    "    ## we find all cases of (0,1) and left shift to find the subtraction\n",
    "    print(a,b)\n",
    "    a, b = a ^ b, (~a & b) << 1 \n",
    "    print(a,b)\n",
    "\n",
    "a"
   ]
  },
  {
   "cell_type": "markdown",
   "metadata": {},
   "source": [
    "### Example (Multiplication)"
   ]
  },
  {
   "cell_type": "markdown",
   "metadata": {},
   "source": [
    "- This is a bit different from addition/subtraction\n",
    "\n",
    "- But idea is similar, we go bit by bit, and perform some action depending on what we see!"
   ]
  },
  {
   "cell_type": "markdown",
   "metadata": {},
   "source": [
    "- Let's imagine we want to do 29 * 13\n",
    "    - 29 --> 11101\n",
    "    - 13 --> 01101\n",
    "\n",
    "- We traverse 13 from right to left, going bit by bit:\n",
    "    - Let thirteen = '01101'\n",
    "    - thirteen[4] = 1\n",
    "        - This implies there is a 2^0 value\n",
    "        - Find 29 * 2^0 = 29\n",
    "    - thirteen[3] = 0\n",
    "        - Skip\n",
    "    - thirteen[2] = 1\n",
    "        - There is a 2^2 = 4 value\n",
    "        - 29 * 2^2 = 116\n",
    "    - thirteen[1] = 1\n",
    "        - There is a 2^3 = 8 value\n",
    "        - 29 * 2^3 = 232\n",
    "    - thirteen[0] = 0\n",
    "        - Skip\n",
    "\n",
    "- 232 + 116 + 29 = 377 = 13 * 29\n"
   ]
  },
  {
   "cell_type": "code",
   "execution_count": 62,
   "metadata": {},
   "outputs": [
    {
     "data": {
      "text/plain": [
       "377"
      ]
     },
     "execution_count": 62,
     "metadata": {},
     "output_type": "execute_result"
    }
   ],
   "source": [
    "a = 13\n",
    "b = 29\n",
    "\n",
    "res = 0\n",
    "power = 0\n",
    "while b > 0:\n",
    "    \n",
    "    ## Get the least signinificant bit of b\n",
    "    lsb = b & 1\n",
    "    if lsb:\n",
    "        res += a << power\n",
    "    \n",
    "    ## Have accounted for least significant bit, get rid of it\n",
    "    b >>= 1\n",
    "    power += 1\n",
    "\n",
    "res\n",
    "    "
   ]
  },
  {
   "cell_type": "markdown",
   "metadata": {},
   "source": [
    "### Example (Division)"
   ]
  },
  {
   "cell_type": "markdown",
   "metadata": {},
   "source": [
    "- Let's imagine we want to do 29 / 6\n",
    "    - 35 --> 100011\n",
    "    - 6 --> 000110\n",
    "\n",
    "- Instead of trying to multiply 35 by each non-zero bit of 6, we now want to figure out the highest multiple of 6 that can fit 35"
   ]
  },
  {
   "cell_type": "markdown",
   "metadata": {},
   "source": [
    "- Iteration 1\n",
    "    - Left shift 6 until it exceeds 35\n",
    "        - 000110 << 1 --> 001100 = 12. NOT LARGER THAN 35, continue. shift = 1\n",
    "        - 001100 << 1 --> 011000 = 24. NOT LARGER THAN 35, continue. shift = 2\n",
    "        - 011000 << 1 --> 110000 = 48. LARGER THAN 35, stop.\n",
    "    \n",
    "    - Shift = 2\n",
    "        - That is, the most number of times we double 6 before it exceeds 35 is 2\n",
    "\n",
    "    - Set remainder = 35-24 = 11 \n",
    "    - Set quotient += 2^shift = 2^2 = 4\n",
    "\n",
    "- Iteration 2\n",
    "    - Left shift 6 until it exceeds 11\n",
    "        - 000110 << 1 --> 001100 = 12. LARGER THAN 11, Stop\n",
    "    \n",
    "    - Shift = 0\n",
    "        - That is, the most number of times we double 6 before it exceeds 11 is 0\n",
    "\n",
    "    - Set remainder = 11-6 = 5\n",
    "    - Set quotient += 2^shift = 2^0 = 4 + 1 = 5\n",
    "\n",
    "- Iteration 3\n",
    "    - Remainder < divisor, terminate \n"
   ]
  },
  {
   "cell_type": "code",
   "execution_count": 70,
   "metadata": {},
   "outputs": [
    {
     "name": "stdout",
     "output_type": "stream",
     "text": [
      "0 40\n",
      "4 16\n",
      "4 16\n",
      "6 4\n"
     ]
    },
    {
     "data": {
      "text/plain": [
       "(6, 4)"
      ]
     },
     "execution_count": 70,
     "metadata": {},
     "output_type": "execute_result"
    }
   ],
   "source": [
    "a = 40\n",
    "b = 6\n",
    "\n",
    "remainder = a\n",
    "quotient = 0\n",
    "\n",
    "while remainder >= b:\n",
    "    shift = 0\n",
    "    divisor = b\n",
    "    while divisor < remainder:\n",
    "        divisor <<= 1\n",
    "        shift += 1\n",
    "    \n",
    "    quotient += 2**(shift-1)\n",
    "    remainder -= 2**(shift-1) * b\n",
    "\n",
    "(quotient, remainder)"
   ]
  },
  {
   "cell_type": "code",
   "execution_count": 1,
   "metadata": {},
   "outputs": [
    {
     "data": {
      "text/plain": [
       "(5, 5)"
      ]
     },
     "execution_count": 1,
     "metadata": {},
     "output_type": "execute_result"
    }
   ],
   "source": [
    "def divide(a, b):\n",
    "    remainder = a\n",
    "    quotient = 0\n",
    "\n",
    "    while remainder >= b:\n",
    "        shift = 0\n",
    "        divisor = b\n",
    "        \n",
    "        # Shift the divisor to the left until it's larger than the remainder\n",
    "        while divisor <= remainder:\n",
    "            divisor <<= 1\n",
    "            shift += 1\n",
    "\n",
    "        # Calculate the quotient using bitwise OR and subtract the multiple of divisor\n",
    "        '''\n",
    "        This takes some explaining.\n",
    "        In this while loop, we always divide by the largest possible value at the start. \n",
    "            - i.e. in 35/6, we divide by 24 at the start)\n",
    "        Every subsequent increment of quotient will come from less significant bits\n",
    "        So here, we want to find the most significant increment of the quotient that is a power of 2 (as per our division strategy)\n",
    "            - i.e. in 35/6, we divide by 6 * 2^2 at the start, so the quotient will have a bit flipped at the 3rd bit, or at 1 << 2 bit\n",
    "        By taking an `|`, every bit that we have flipped earlier remains flipped, and every new (smaller) bit will get flipped\n",
    "        '''\n",
    "        quotient |= (1 << (shift - 1))\n",
    "        \n",
    "        # remainder -= (1 << (shift - 1)) * b\n",
    "        remainder -= b << (shift - 1)\n",
    "\n",
    "    return quotient, remainder\n",
    "\n",
    "divide(35,6)"
   ]
  }
 ],
 "metadata": {
  "kernelspec": {
   "display_name": "data-science-SgH_SThs-py3.12",
   "language": "python",
   "name": "python3"
  },
  "language_info": {
   "codemirror_mode": {
    "name": "ipython",
    "version": 3
   },
   "file_extension": ".py",
   "mimetype": "text/x-python",
   "name": "python",
   "nbconvert_exporter": "python",
   "pygments_lexer": "ipython3",
   "version": "3.12.6"
  }
 },
 "nbformat": 4,
 "nbformat_minor": 2
}
