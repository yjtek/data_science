{
 "cells": [
  {
   "cell_type": "markdown",
   "metadata": {},
   "source": [
    "## Bit Manipulation Tricks"
   ]
  },
  {
   "cell_type": "markdown",
   "metadata": {},
   "source": [
    "- We know that all integers are represented as a series of bits in binary \n",
    "\n",
    "- There are some useful tricks that you can do with this bit representation, and this will serve as an interesting record of them"
   ]
  },
  {
   "cell_type": "markdown",
   "metadata": {},
   "source": [
    "### Right shift == Floor division by 2"
   ]
  },
  {
   "cell_type": "markdown",
   "metadata": {},
   "source": [
    "- Right shifting an integer is equivalent to taking a floor division by 2 for any integer"
   ]
  },
  {
   "cell_type": "code",
   "execution_count": 5,
   "metadata": {},
   "outputs": [
    {
     "data": {
      "text/plain": [
       "True"
      ]
     },
     "execution_count": 5,
     "metadata": {},
     "output_type": "execute_result"
    }
   ],
   "source": [
    "val = 123456789\n",
    "(val >> 1) == (val // 2)"
   ]
  },
  {
   "cell_type": "markdown",
   "metadata": {},
   "source": [
    "### Hamming Weight"
   ]
  },
  {
   "cell_type": "markdown",
   "metadata": {},
   "source": [
    "- The hamming weight of an integer is the number of 1s in its binary representation\n",
    "- One interesting way to compute the hamming weight is to use this trick \n",
    "    - Take bitwise `&` of a number `n`'s binary representation with `n-1` until it reaches 0\n",
    "    - The number of bitwise `&`s you can do is equal to the number of 1s in the binary string\n",
    "\n",
    "- Let `n=10110`\n",
    "    - `n=10110` & `n-1=10011` = `10010`\n",
    "    - `n=10010` & `n-1=10001` = `10000`\n",
    "    - `n=10000` & `n-1=01111` = `00000`\n",
    "    - Hence 3 1s\n"
   ]
  },
  {
   "cell_type": "code",
   "execution_count": 8,
   "metadata": {},
   "outputs": [
    {
     "name": "stdout",
     "output_type": "stream",
     "text": [
      "6 11000000111001\n"
     ]
    }
   ],
   "source": [
    "def hamming_weight(n):\n",
    "    count=0\n",
    "    while n != 0:\n",
    "        n &= n-1\n",
    "        count += 1\n",
    "    return count\n",
    "\n",
    "print(hamming_weight(12345), bin(12345)[2:])"
   ]
  },
  {
   "cell_type": "markdown",
   "metadata": {},
   "source": [
    "### XOR Tricks"
   ]
  },
  {
   "cell_type": "markdown",
   "metadata": {},
   "source": [
    "- XOR is symbolically represented by $\\oplus$\n",
    "\n",
    "- Some XOR rules\n",
    "    - $x \\oplus 0 = x$\n",
    "    - $x \\oplus x = 0$\n",
    "    - XOR is commutative\n",
    "        - $x \\oplus y \\oplus x = x \\oplus x \\oplus y = 0 \\oplus y = y$"
   ]
  },
  {
   "cell_type": "markdown",
   "metadata": {},
   "source": [
    "- Because of these properties, XOR actually has a few very interesting uses"
   ]
  },
  {
   "cell_type": "markdown",
   "metadata": {},
   "source": [
    "#### In-place Swapping"
   ]
  },
  {
   "cell_type": "markdown",
   "metadata": {},
   "source": [
    "- Imagine I have values $x,y$\n",
    "- I want to swap values $x,y$, **without** using a temporary variable\n",
    "    - That is, I don't want to do this: `_tmp = x`, `x = y`, `y = _tmp`\n",
    "\n",
    "- But this can be done quite simply with **XOR**\n",
    "$$\\begin{aligned}\n",
    "    x2 &= x \\oplus y \\\\ \\\\\n",
    "    \n",
    "    y2 &= y \\oplus x2 \\\\\n",
    "    &= y \\oplus x \\oplus y \\\\\n",
    "    &= x \\\\ \\\\\n",
    "\n",
    "    x2 &= x2 \\oplus y2 \\\\\n",
    "    &= x \\oplus y \\oplus x \\\\\n",
    "    &= y\n",
    "\\end{aligned}$$\n",
    "\n",
    "- For clarity, we use x2 and y2 to denote new variables, to demonstrate how the values actually change\n",
    "    - But notice that this swapping will still work even if we use `x` and `y` directly!\n",
    "    - Because we don't use $x$ and $y$ again after redefining them "
   ]
  },
  {
   "cell_type": "code",
   "execution_count": 1,
   "metadata": {},
   "outputs": [
    {
     "data": {
      "text/plain": [
       "True"
      ]
     },
     "execution_count": 1,
     "metadata": {},
     "output_type": "execute_result"
    }
   ],
   "source": [
    "x = 1293192\n",
    "y = 5068432\n",
    "\n",
    "x ^= y\n",
    "y ^= x\n",
    "x ^= y\n",
    "\n",
    "(y == 1293192) and (x == 5068432)"
   ]
  },
  {
   "cell_type": "markdown",
   "metadata": {},
   "source": [
    "#### Find Missing Object "
   ]
  },
  {
   "cell_type": "markdown",
   "metadata": {},
   "source": [
    "- Problem: You are given an array $A$ of $N$ objects. You are given a second array $A'$ of $N-1$ objects that is almost identical to $A$, except with 1 object remove. Find the missing object\n",
    "\n",
    "- This is another example of just applying the **XOR** rules\n",
    "\n",
    "- Let's XOR all objects in $A$, then XOR every object in $A'$\n",
    "\n",
    "- By the XOR rules, everything will cancel out except for 1 object, which will be our missing object"
   ]
  },
  {
   "cell_type": "code",
   "execution_count": 8,
   "metadata": {},
   "outputs": [
    {
     "name": "stdout",
     "output_type": "stream",
     "text": [
      "66 66\n"
     ]
    }
   ],
   "source": [
    "import random\n",
    "\n",
    "N = 100\n",
    "A = list(range(N))\n",
    "delete_index = random.randint(0, 99)\n",
    "del A[delete_index]\n",
    "\n",
    "ans = 0\n",
    "for val in list(range(N)):\n",
    "    ans ^= val\n",
    "\n",
    "for val in A:\n",
    "    ans ^= val\n",
    "\n",
    "print(ans, delete_index)"
   ]
  },
  {
   "cell_type": "markdown",
   "metadata": {},
   "source": [
    "- This applies to more than numbers; you can XOR anything that can be represented in binary.\n",
    "\n",
    "- Here, I show an example with strings\n",
    "    - To convert a string to integer representation: \n",
    "        - Use MD5 hash to produce a 128bit binary value\n",
    "        - Represent this as an integer (use `int` to convert base2 to base10), because the built-in XOR operation only works with integers\n",
    "    - Create a hash map that tags integers to the strings. Eventually, the XOR returns the integer representation of the missing string, but you can't \"reverse\" the MD5 hash, so you need to look up the map from the integer to the string\n",
    "    - XOR every value in the 2 sets together, and find the integer value of the missing string\n",
    "    - Look up the missing string from the hashmap"
   ]
  },
  {
   "cell_type": "code",
   "execution_count": 57,
   "metadata": {},
   "outputs": [
    {
     "data": {
      "text/plain": [
       "'of'"
      ]
     },
     "execution_count": 57,
     "metadata": {},
     "output_type": "execute_result"
    }
   ],
   "source": [
    "import hashlib\n",
    "\n",
    "def convert_str_to_binary(inputstr: str):\n",
    "    md5hash = hashlib.md5(inputstr.encode()).digest()\n",
    "    binarystr_128bit = ''.join([format(c, '08b') for c in md5hash])\n",
    "    return int(binarystr_128bit, 2)\n",
    "\n",
    "def find_missing_str(set1: list, set2: list):\n",
    "    lookup: dict[int, str] = {\n",
    "        convert_str_to_binary(x): x \n",
    "        for x in set1\n",
    "    }\n",
    "\n",
    "    ans = 0\n",
    "    for string in set1+set2:\n",
    "        ans ^= convert_str_to_binary(string)\n",
    "\n",
    "    return lookup.get(ans)\n",
    "\n",
    "set1 = ['this', 'is', 'a', 'set', 'of', 'strings', 'with', 'a', 'missing', 'value']\n",
    "set2 = [x for x in set1 if x != 'of']\n",
    "find_missing_str(set1, set2)"
   ]
  },
  {
   "cell_type": "markdown",
   "metadata": {},
   "source": [
    "#### Finding Duplicate Number"
   ]
  },
  {
   "cell_type": "markdown",
   "metadata": {},
   "source": [
    "- I have an array `A` of size `N+1` that contains all numbers between 1 and $N$, with 1 duplicated number. How do I tell which number is duplicated?\n",
    "\n",
    "- Do the exact same thing as the above. Then all numbers cancel out, except the duplicated one (call it `M`) which will be XOR-ed by itself 3 times, leaving `M`"
   ]
  },
  {
   "cell_type": "markdown",
   "metadata": {},
   "source": [
    "#### Finding Two Missing/Duplicate Numbers"
   ]
  },
  {
   "cell_type": "markdown",
   "metadata": {},
   "source": [
    "- Problem: You are given an array $A$ of $N$ objects. You are given a second array $A'$ of $N-2$ objects that is almost identical to $A$, except with 2 objects removed. Find the 2 missing objects\n",
    "\n",
    "- Let's imagine using the same algorithm, where we **XOR** $A$ and $A'$\n",
    "\n",
    "- All elements cancel out, except for the 2 missing ones. Let's call this $u$ and $v$\n",
    "\n",
    "- But we don't end up with separate elements! We end up with $u \\oplus v$ How can we decompose this?\n",
    "\n",
    "- Let's examine $u \\oplus v$ more closely\n",
    "    - We know that, at each bit, if the bit value of $u$ matches $v$, $u \\oplus v$ must be 0\n",
    "    - So if it is 0 throughout, then $u == v$\n",
    "    - Otherwise, there must be a bit value at some index $i$ that is 1, where $u$ and $v$ differ\n",
    "\n",
    "- Based on this, let's break the arrays $A$ and $A'$ into 2 groups\n",
    "    - Group 1 comprises of all the values in $A$ and $A'$ whose binary representations at index $i$ is 0\n",
    "    - Group 2 comprises of all the values in $A$ and $A'$ whose binary representations at index $i$ is 1\n",
    "\n",
    "- We know for a fact that `u` and `v` MUST be in different groups, because we split the groups based on the position $i$ where $u$ and $v$ differ!\n",
    "\n",
    "- So if I run the same **XOR** algorithm within groups 1 and 2, I am guaranteed to get $u$ and $v$!"
   ]
  },
  {
   "cell_type": "code",
   "execution_count": 103,
   "metadata": {},
   "outputs": [
    {
     "name": "stdout",
     "output_type": "stream",
     "text": [
      "102 1100110\n",
      "0\n",
      "60 90\n",
      "90 60\n"
     ]
    }
   ],
   "source": [
    "import random\n",
    "import math\n",
    "\n",
    "N = 100\n",
    "max_binary_length = math.ceil(math.log2(N))\n",
    "\n",
    "def int_to_bin(integer: int, max_binary_length: int) -> str:\n",
    "    return format(integer, f'0{max_binary_length}b')\n",
    "\n",
    "complete = list(range(N))\n",
    "missing = list(range(N))\n",
    "delete_index, delete_index2 = random.sample(population=complete, k=2)\n",
    "missing = [x for x in missing if x not in [delete_index, delete_index2]]\n",
    "\n",
    "ans = 0\n",
    "for val in complete+missing:\n",
    "    ans ^= val\n",
    "\n",
    "u_xor_v = ans\n",
    "print(u_xor_v, int_to_bin(u_xor_v, max_binary_length))\n",
    "\n",
    "partition_index = 0\n",
    "for i, x in enumerate(int_to_bin(u_xor_v, max_binary_length)):\n",
    "    if x != '1':\n",
    "        continue\n",
    "    partition_index = i\n",
    "    break\n",
    "\n",
    "print(i)\n",
    "\n",
    "group1_complete = [x for x in complete if int_to_bin(x, max_binary_length)[partition_index] == '1']\n",
    "group1_missing = [x for x in missing if int_to_bin(x, max_binary_length)[partition_index] == '1']\n",
    "group2_complete = [x for x in complete if int_to_bin(x, max_binary_length)[partition_index] == '0']\n",
    "group2_missing = [x for x in missing if int_to_bin(x, max_binary_length)[partition_index] == '0']\n",
    "\n",
    "u = 0\n",
    "for val in group1_complete+group1_missing:\n",
    "    u ^= val\n",
    "\n",
    "v = 0\n",
    "for val in group2_complete+group2_missing:\n",
    "    v ^= val\n",
    "\n",
    "print(delete_index, delete_index2)\n",
    "print(u, v)"
   ]
  },
  {
   "cell_type": "markdown",
   "metadata": {},
   "source": [
    "#### Finding N missing/duplicate numbers"
   ]
  },
  {
   "cell_type": "markdown",
   "metadata": {},
   "source": [
    "- Lol this no longer works. Find another way fool"
   ]
  }
 ],
 "metadata": {
  "kernelspec": {
   "display_name": "data-science-SgH_SThs-py3.12",
   "language": "python",
   "name": "python3"
  },
  "language_info": {
   "codemirror_mode": {
    "name": "ipython",
    "version": 3
   },
   "file_extension": ".py",
   "mimetype": "text/x-python",
   "name": "python",
   "nbconvert_exporter": "python",
   "pygments_lexer": "ipython3",
   "version": "3.12.6"
  }
 },
 "nbformat": 4,
 "nbformat_minor": 2
}
