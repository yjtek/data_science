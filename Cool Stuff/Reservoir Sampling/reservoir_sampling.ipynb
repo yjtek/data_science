{
 "cells": [
  {
   "cell_type": "markdown",
   "metadata": {},
   "source": [
    "## Premise"
   ]
  },
  {
   "cell_type": "markdown",
   "metadata": {},
   "source": [
    "- The idea is that, you have a stream of **unknown** size $n$, but a memory buffer of size $k$ where $n >> k$ How do we take a random sample from this stream?\n",
    " \n",
    "- Notes\n",
    "    - $n$ is unknown, so we cannot use a naive approach of picking random indices from the stream.\n",
    "    - $k$ is much smaller than $n$, so we can't use a naive approach of picking a random sample of size $k$ from the stream\n",
    "\n",
    "- Solution overview:\n",
    "    - Create a **reservoir** of size $k$, and call this $R$\n",
    "    - For every element from stream $S$, we increment a counter $\\text{index}$\n",
    "    - When $0 \\le \\text{index} \\le k-1$, add element to $R$\n",
    "    - For each element after the $k$-th element, generate a random number $i$ where $0 \\le i \\le \\text{index} $\n",
    "    - If $i \\le k-1$, replace $R[i]$ with $S[\\text{index}]$"
   ]
  },
  {
   "cell_type": "markdown",
   "metadata": {},
   "source": [
    "## Mathematical Proof"
   ]
  },
  {
   "cell_type": "markdown",
   "metadata": {},
   "source": [
    "### What are we trying to prove?\n"
   ]
  },
  {
   "cell_type": "markdown",
   "metadata": {},
   "source": [
    "- For every element of the stream $S$ to be randomly selected, we want to prove that every element has a $\\frac{k}{n}$ probability of being selected"
   ]
  },
  {
   "cell_type": "markdown",
   "metadata": {},
   "source": [
    "### Cases"
   ]
  },
  {
   "cell_type": "markdown",
   "metadata": {},
   "source": [
    "#### For stream elements between $k$ and $n-1$"
   ]
  },
  {
   "cell_type": "markdown",
   "metadata": {},
   "source": [
    "- Consider the last element of the stream $S[n-1]$\n",
    "    - From the procedure above, we are generating $i$ such that $0 \\le i \\le n-1$\n",
    "    - If the number is between $0 \\le i \\le k-1$, element $i$ in reservoir $R$ is replaced by $S[n-1]$\n",
    "    - Else the number is not added to the reservoir\n",
    "    - This replacement happens with exactly $\\frac{k}{n}$ probability\n",
    "\n",
    "- Consider the second last element of the stream $S[n-2]$\n",
    "    - When we first encounter $S[n-2]$, it has a probability $\\frac{k}{n-1}$ of getting added to $R$ \n",
    "    - IF $S[n-2]$ is added to $R$\n",
    "        - We next encounter the last element of the stream $S[n-1]$\n",
    "        - This has a $\\frac{1}{n}$ probability of replacing the $S[n-2]$ element, which implies $\\frac{n-1}{n}$ probability of not replacing $S[n-2]$\n",
    "    - IF $S[n-2]$ is NOT added to $R$, the last element does not affect it's selection probability\n",
    "    - Therefore, the probability that $S[n-2]$ remains in the reservoir at the end of the stream is $\\frac{k}{n-1} \\cdot \\frac{n-1}{n} = \\frac{k}{n}$\n",
    "\n",
    "- Consider the third last element of the stream $S[n-3]$\n",
    "    - Following the logic above\n",
    "    - When we first encounter $S[n-3]$, it has a probability $\\frac{k}{n-2}$ of getting added to $R$ \n",
    "    - IF $S[n-3]$ is added to $R$\n",
    "        - We next encounter the second last element of the stream $S[n-2]$\n",
    "        - This has a $\\frac{1}{n-1}$ probability of replacing the $S[n-3]$ element, which implies $\\frac{n-2}{n-1}$ probability of not replacing $S[n-3]$\n",
    "    - IF $S[n-3]$ is added to $R$ AND $S[n-2]$ does not replace $S[n-3]$\n",
    "        - We finally encounter the last element of the stream $S[n-1]$\n",
    "        - This has a $\\frac{1}{n}$ probability of replacing the $S[n-3]$ element, which implies $\\frac{n-1}{n}$ probability of not replacing $S[n-3]$\n",
    "\n",
    "    - Therefore, the probability that $S[n-3]$ remains in the reservoir at the end of the stream is $\\frac{k}{n-2} \\cdot \\frac{n-2}{n-1} \\cdot \\frac{n-1}{n} = \\frac{k}{n}$\n",
    "\n",
    "- By induction, this logic holds for all stream elements between indices $[k+1, n]$"
   ]
  },
  {
   "cell_type": "markdown",
   "metadata": {},
   "source": [
    "#### For stream elements between $0$ and $k$"
   ]
  },
  {
   "cell_type": "markdown",
   "metadata": {},
   "source": [
    "- Consider the first element of the stream $S[0]$\n",
    "    - It is added to $R$ with probability 1\n",
    "    - Until the $k-1$-th element, $S[0]$ has no change of getting removed\n",
    "    - For each index $i$ between $k$ and $n-1$ of the stream, $S[0]$ is removed with probability $\\frac{1}{i}$\n",
    "    - Starting from the $n-1$-th element, the probability of $S[0]$ **NOT** getting removed is $\\frac{n-1}{n} \\cdot \\frac{n-2}{n-1} \\cdot ... \\frac{n - (n-k)}{n - (n-k) + 1} = \\frac{k}{n}$ by telescoping series\n",
    "\n",
    "- This logic repeats for every element from $S[0]$ to $S[k-1]$"
   ]
  },
  {
   "cell_type": "markdown",
   "metadata": {},
   "source": [
    "## Simulation"
   ]
  },
  {
   "cell_type": "code",
   "execution_count": 26,
   "metadata": {},
   "outputs": [],
   "source": [
    "import random\n",
    "from collections import Counter\n",
    "reservoir_size = 10\n",
    "val_range = 100\n",
    "sim_size = 10_000\n",
    "\n",
    "def get_simulation():\n",
    "    stream = [x for x in range(val_range)]\n",
    "    reservoir = [-1] * reservoir_size\n",
    "    for index, elem in enumerate(stream):\n",
    "        if index < reservoir_size:\n",
    "            reservoir[index] = elem\n",
    "        else:\n",
    "            _tmp = random.randint(0, index)\n",
    "            if _tmp < reservoir_size:\n",
    "                reservoir[_tmp] = elem\n",
    "    return reservoir\n",
    "\n",
    "sims = [get_simulation() for _ in range(sim_size)]"
   ]
  },
  {
   "cell_type": "code",
   "execution_count": 28,
   "metadata": {},
   "outputs": [
    {
     "data": {
      "text/plain": [
       "{0: 0.1008,\n",
       " 1: 0.0984,\n",
       " 2: 0.1033,\n",
       " 3: 0.0977,\n",
       " 4: 0.1027,\n",
       " 5: 0.0978,\n",
       " 6: 0.0993,\n",
       " 7: 0.0997,\n",
       " 8: 0.1005,\n",
       " 9: 0.0971,\n",
       " 10: 0.0995,\n",
       " 11: 0.1038,\n",
       " 12: 0.0977,\n",
       " 13: 0.1007,\n",
       " 14: 0.0964,\n",
       " 15: 0.0972,\n",
       " 16: 0.1035,\n",
       " 17: 0.097,\n",
       " 18: 0.0969,\n",
       " 19: 0.1055,\n",
       " 20: 0.0979,\n",
       " 21: 0.0986,\n",
       " 22: 0.1032,\n",
       " 23: 0.1058,\n",
       " 24: 0.1001,\n",
       " 25: 0.0993,\n",
       " 26: 0.1032,\n",
       " 27: 0.1023,\n",
       " 28: 0.0985,\n",
       " 29: 0.1003,\n",
       " 30: 0.0998,\n",
       " 31: 0.0981,\n",
       " 32: 0.0984,\n",
       " 33: 0.1011,\n",
       " 34: 0.0978,\n",
       " 35: 0.1019,\n",
       " 36: 0.1068,\n",
       " 37: 0.0978,\n",
       " 38: 0.1024,\n",
       " 39: 0.0991,\n",
       " 40: 0.0983,\n",
       " 41: 0.0951,\n",
       " 42: 0.0966,\n",
       " 43: 0.0975,\n",
       " 44: 0.1055,\n",
       " 45: 0.103,\n",
       " 46: 0.1007,\n",
       " 47: 0.1042,\n",
       " 48: 0.0986,\n",
       " 49: 0.1045,\n",
       " 50: 0.1015,\n",
       " 51: 0.0993,\n",
       " 52: 0.1004,\n",
       " 53: 0.1026,\n",
       " 54: 0.1028,\n",
       " 55: 0.0996,\n",
       " 56: 0.1013,\n",
       " 57: 0.0973,\n",
       " 58: 0.0991,\n",
       " 59: 0.1022,\n",
       " 60: 0.0967,\n",
       " 61: 0.1037,\n",
       " 62: 0.0956,\n",
       " 63: 0.1064,\n",
       " 64: 0.0965,\n",
       " 65: 0.0967,\n",
       " 66: 0.1013,\n",
       " 67: 0.0943,\n",
       " 68: 0.0971,\n",
       " 69: 0.1014,\n",
       " 70: 0.1028,\n",
       " 71: 0.101,\n",
       " 72: 0.0991,\n",
       " 73: 0.1008,\n",
       " 74: 0.1004,\n",
       " 75: 0.101,\n",
       " 76: 0.1021,\n",
       " 77: 0.1022,\n",
       " 78: 0.0936,\n",
       " 79: 0.1009,\n",
       " 80: 0.0943,\n",
       " 81: 0.0973,\n",
       " 82: 0.0999,\n",
       " 83: 0.0999,\n",
       " 84: 0.1021,\n",
       " 85: 0.0986,\n",
       " 86: 0.1013,\n",
       " 87: 0.0998,\n",
       " 88: 0.0991,\n",
       " 89: 0.0973,\n",
       " 90: 0.0996,\n",
       " 91: 0.1004,\n",
       " 92: 0.1028,\n",
       " 93: 0.0999,\n",
       " 94: 0.101,\n",
       " 95: 0.1037,\n",
       " 96: 0.096,\n",
       " 97: 0.0966,\n",
       " 98: 0.1006,\n",
       " 99: 0.0982}"
      ]
     },
     "execution_count": 28,
     "metadata": {},
     "output_type": "execute_result"
    }
   ],
   "source": [
    "{val:sum([val in sim for sim in sims])/sim_size for val in range(val_range)}"
   ]
  }
 ],
 "metadata": {
  "kernelspec": {
   "display_name": "data_science",
   "language": "python",
   "name": "python3"
  },
  "language_info": {
   "codemirror_mode": {
    "name": "ipython",
    "version": 3
   },
   "file_extension": ".py",
   "mimetype": "text/x-python",
   "name": "python",
   "nbconvert_exporter": "python",
   "pygments_lexer": "ipython3",
   "version": "3.11.8"
  }
 },
 "nbformat": 4,
 "nbformat_minor": 2
}
