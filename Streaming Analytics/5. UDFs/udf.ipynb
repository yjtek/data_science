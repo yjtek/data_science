{
 "cells": [
  {
   "cell_type": "markdown",
   "metadata": {},
   "source": [
    "- You can define custom UDFs in Python for FlinkSQL to consume"
   ]
  },
  {
   "cell_type": "code",
   "execution_count": null,
   "metadata": {},
   "outputs": [],
   "source": [
    "## in some file.py\n",
    "from pyflink.table import DataTypes\n",
    "from pyflink.table.udf import udf\n",
    "\n",
    "us_cities = {\"Chicago\",\"Portland\",\"Seattle\",\"New York\"}\n",
    "\n",
    "@udf(input_types=[DataTypes.STRING(), DataTypes.FLOAT()],\n",
    "     result_type=DataTypes.FLOAT())\n",
    "def to_fahr(city, temperature):\n",
    "\n",
    "\tif city in us_cities:\n",
    "\n",
    "\t\tfahr = ((temperature * 9.0 / 5.0) + 32.0)\n",
    "\n",
    "\t\treturn fahr\n",
    "\telse:\n",
    "\t\treturn temperature"
   ]
  },
  {
   "cell_type": "markdown",
   "metadata": {},
   "source": [
    "```sql\n",
    "--Register the Python UDF using the fully qualified \n",
    "--name of the function ([module name].[object name])\n",
    "CREATE FUNCTION to_fahr AS 'python_udf.to_fahr' \n",
    "LANGUAGE PYTHON;\n",
    "\n",
    "\n",
    "CREATE TABLE temperature_measurements (\n",
    "  city STRING,\n",
    "  temperature FLOAT,\n",
    "  measurement_time TIMESTAMP(3),\n",
    "  WATERMARK FOR measurement_time AS measurement_time - INTERVAL '15' SECONDS\n",
    ")\n",
    "WITH (\n",
    "  'connector' = 'faker',\n",
    "  'fields.temperature.expression' = '#{number.numberBetween ''0'',''42''}',\n",
    "  'fields.measurement_time.expression' = '#{date.past ''15'',''SECONDS''}',\n",
    "  'fields.city.expression' = '#{regexify ''(Copenhagen|Berlin|Chicago|Portland|Seattle|New York){1}''}'\n",
    ");\n",
    "\n",
    "\n",
    "--Use to_fahr() to convert temperatures in US cities from C to F\n",
    "SELECT city,\n",
    "       temperature AS tmp,\n",
    "       to_fahr(city,temperature) AS tmp_conv,\n",
    "       measurement_time\n",
    "FROM temperature_measurements;\n",
    "```"
   ]
  }
 ],
 "metadata": {
  "kernelspec": {
   "display_name": "data_science",
   "language": "python",
   "name": "python3"
  },
  "language_info": {
   "name": "python",
   "version": "3.11.8"
  }
 },
 "nbformat": 4,
 "nbformat_minor": 2
}
