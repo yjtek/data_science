{
 "cells": [
  {
   "cell_type": "markdown",
   "metadata": {},
   "source": [
    "# Aggregations"
   ]
  },
  {
   "cell_type": "markdown",
   "metadata": {},
   "source": [
    "## 1. Group By"
   ]
  },
  {
   "cell_type": "markdown",
   "metadata": {},
   "source": [
    "- To understand the options you have to define windows, see section 0\n",
    "\n",
    "- If your stream does not have a timestamp, generate using a computed column `log_time as PROCTIME()`"
   ]
  },
  {
   "cell_type": "markdown",
   "metadata": {},
   "source": [
    "```sql\n",
    "CREATE TABLE server_logs ( \n",
    "    client_ip STRING,\n",
    "    client_identity STRING, \n",
    "    userid STRING, \n",
    "    request_line STRING, \n",
    "    status_code STRING, \n",
    "    log_time AS PROCTIME()\n",
    ") WITH (\n",
    "  'connector' = 'faker', \n",
    "  'fields.client_ip.expression' = '#{Internet.publicIpV4Address}',\n",
    "  'fields.client_identity.expression' =  '-',\n",
    "  'fields.userid.expression' =  '-',\n",
    "  'fields.log_time.expression' =  '#{date.past ''15'',''5'',''SECONDS''}',\n",
    "  'fields.request_line.expression' = '#{regexify ''(GET|POST|PUT|PATCH){1}''} #{regexify ''(/search\\.html|/login\\.html|/prod\\.html|cart\\.html|/order\\.html){1}''} #{regexify ''(HTTP/1\\.1|HTTP/2|/HTTP/1\\.0){1}''}',\n",
    "  'fields.status_code.expression' = '#{regexify ''(200|201|204|400|401|403|301){1}''}'\n",
    ");\n",
    "\n",
    "SELECT  \n",
    "  COUNT(DISTINCT client_ip) AS ip_addresses,\n",
    "  TUMBLE_PROCTIME(log_time, INTERVAL '1' MINUTE) AS window_interval\n",
    "FROM server_logs\n",
    "GROUP BY \n",
    "  TUMBLE(log_time, INTERVAL '1' MINUTE);\n",
    "```"
   ]
  },
  {
   "cell_type": "markdown",
   "metadata": {},
   "source": [
    "## 2. Watermarks"
   ]
  },
  {
   "cell_type": "markdown",
   "metadata": {},
   "source": [
    "- Think of a \"watermark\" as a record of a time when something actually happens\n",
    "- In streaming systems, the order where your events arrive may not always be sequential relative to event time \n",
    "    - For example, it is entirely possible for an earlier event to arrive later due to network lags etc"
   ]
  },
  {
   "cell_type": "markdown",
   "metadata": {},
   "source": [
    "```sql\n",
    "CREATE TABLE doctor_sightings (\n",
    "  doctor        STRING,\n",
    "  sighting_time TIMESTAMP(3),\n",
    "  WATERMARK FOR sighting_time AS sighting_time - INTERVAL '15' SECONDS\n",
    ")\n",
    "WITH (\n",
    "  'connector' = 'faker', \n",
    "  'fields.doctor.expression' = '#{dr_who.the_doctors}',\n",
    "  'fields.sighting_time.expression' = '#{date.past ''15'',''SECONDS''}'\n",
    ");\n",
    "\n",
    "SELECT \n",
    "    doctor,\n",
    "    TUMBLE_ROWTIME(sighting_time, INTERVAL '1' MINUTE) AS sighting_time,\n",
    "    COUNT(*) AS sightings\n",
    "FROM doctor_sightings\n",
    "GROUP BY \n",
    "    TUMBLE(sighting_time, INTERVAL '1' MINUTE),\n",
    "    doctor;\n",
    "```"
   ]
  },
  {
   "cell_type": "markdown",
   "metadata": {},
   "source": [
    "## 3. Group by session window"
   ]
  },
  {
   "cell_type": "markdown",
   "metadata": {},
   "source": [
    "- See section 0 if you want details"
   ]
  },
  {
   "cell_type": "markdown",
   "metadata": {},
   "source": [
    "```sql\n",
    "CREATE TABLE server_logs ( \n",
    "    client_ip STRING,\n",
    "    client_identity STRING, \n",
    "    userid STRING, \n",
    "    log_time TIMESTAMP(3),\n",
    "    request_line STRING, \n",
    "    status_code STRING, \n",
    "    WATERMARK FOR log_time AS log_time - INTERVAL '5' SECONDS\n",
    ") WITH (\n",
    "  'connector' = 'faker', \n",
    "  'rows-per-second' = '5',\n",
    "  'fields.client_ip.expression' = '#{Internet.publicIpV4Address}',\n",
    "  'fields.client_identity.expression' =  '-',\n",
    "  'fields.userid.expression' =  '#{regexify ''(morsapaes|knauf|sjwiesman){1}''}',\n",
    "  'fields.log_time.expression' =  '#{date.past ''5'',''SECONDS''}',\n",
    "  'fields.request_line.expression' = '#{regexify ''(GET|POST|PUT|PATCH){1}''} #{regexify ''(/search\\.html|/login\\.html|/prod\\.html|cart\\.html|/order\\.html){1}''} #{regexify ''(HTTP/1\\.1|HTTP/2|/HTTP/1\\.0){1}''}',\n",
    "  'fields.status_code.expression' = '#{regexify ''(200|201|204|400|401|403|301){1}''}'\n",
    ");\n",
    "\n",
    "SELECT  \n",
    "  userid,\n",
    "  SESSION_START(log_time, INTERVAL '10' SECOND) AS session_beg,\n",
    "  SESSION_ROWTIME(log_time, INTERVAL '10' SECOND) AS session_end,\n",
    "  COUNT(request_line) AS request_cnt\n",
    "FROM server_logs\n",
    "WHERE status_code = '403'\n",
    "GROUP BY \n",
    "  userid, \n",
    "  SESSION(log_time, INTERVAL '10' SECOND);\n",
    "```"
   ]
  },
  {
   "cell_type": "markdown",
   "metadata": {},
   "source": [
    "## 4. Window aggregation"
   ]
  },
  {
   "cell_type": "markdown",
   "metadata": {},
   "source": [
    "- Same as standard sql window functions"
   ]
  },
  {
   "cell_type": "markdown",
   "metadata": {},
   "source": [
    "```sql\n",
    "CREATE TEMPORARY TABLE temperature_measurements (\n",
    "  measurement_time TIMESTAMP(3),\n",
    "  city STRING,\n",
    "  temperature FLOAT, \n",
    "  WATERMARK FOR measurement_time AS measurement_time - INTERVAL '15' SECONDS\n",
    ")\n",
    "WITH (\n",
    "  'connector' = 'faker',\n",
    "  'fields.measurement_time.expression' = '#{date.past ''15'',''SECONDS''}',\n",
    "  'fields.temperature.expression' = '#{number.numberBetween ''0'',''50''}',\n",
    "  'fields.city.expression' = '#{regexify ''(Chicago|Munich|Berlin|Portland|Hangzhou|Seatle|Beijing|New York){1}''}'\n",
    ");\n",
    "\n",
    "SELECT \n",
    "  measurement_time,\n",
    "  city, \n",
    "  temperature,\n",
    "  AVG(CAST(temperature AS FLOAT)) OVER last_minute AS avg_temperature_minute,\n",
    "  MAX(temperature) OVER last_minute AS min_temperature_minute,\n",
    "  MIN(temperature) OVER last_minute AS max_temperature_minute,\n",
    "  STDDEV(CAST(temperature AS FLOAT)) OVER last_minute AS stdev_temperature_minute\n",
    "FROM temperature_measurements \n",
    "WINDOW last_minute AS (\n",
    "  PARTITION BY city\n",
    "  ORDER BY measurement_time\n",
    "  RANGE BETWEEN INTERVAL '1' MINUTE PRECEDING AND CURRENT ROW \n",
    ");\n",
    "```"
   ]
  },
  {
   "cell_type": "markdown",
   "metadata": {},
   "source": [
    "## 5. Hopping Time Windows"
   ]
  },
  {
   "cell_type": "markdown",
   "metadata": {},
   "source": [
    "- See section 0"
   ]
  },
  {
   "cell_type": "markdown",
   "metadata": {},
   "source": [
    "```sql\n",
    "CREATE TABLE bids ( \n",
    "    bid_id STRING,\n",
    "    currency_code STRING,\n",
    "    bid_price DOUBLE, \n",
    "    transaction_time TIMESTAMP(3),\n",
    "    WATERMARK FOR transaction_time AS transaction_time - INTERVAL '5' SECONDS\n",
    ") WITH (\n",
    "  'connector' = 'faker',\n",
    "  'fields.bid_id.expression' = '#{Internet.UUID}',\n",
    "  'fields.currency_code.expression' = '#{regexify ''(EUR|USD|CNY)''}',\n",
    "  'fields.bid_price.expression' = '#{Number.randomDouble ''2'',''1'',''150''}',\n",
    "  'fields.transaction_time.expression' = '#{date.past ''30'',''SECONDS''}',\n",
    "  'rows-per-second' = '100'\n",
    ");\n",
    "\n",
    "SELECT window_start, window_end, currency_code, ROUND(AVG(bid_price),2) AS MovingAverageBidPrice\n",
    "  FROM TABLE(\n",
    "    HOP(TABLE bids, DESCRIPTOR(transaction_time), INTERVAL '30' SECONDS, INTERVAL '1' MINUTE))\n",
    "  GROUP BY window_start, window_end, currency_code;\n",
    "```\n",
    "\n"
   ]
  }
 ],
 "metadata": {
  "language_info": {
   "name": "python"
  }
 },
 "nbformat": 4,
 "nbformat_minor": 2
}
