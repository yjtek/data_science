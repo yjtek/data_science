{
 "cells": [
  {
   "cell_type": "markdown",
   "metadata": {},
   "source": [
    "# Built-in Functions"
   ]
  },
  {
   "cell_type": "markdown",
   "metadata": {},
   "source": [
    "## 1. Working with Dates/Timestamps"
   ]
  },
  {
   "cell_type": "markdown",
   "metadata": {},
   "source": [
    "- There are a few builtin functions that let you deal with Date/Timestamp fields that you should know\n",
    "    - `TO_TIMESTAMP('2024-03-15 11:22:33', 'yyyy-MM-dd HH:mm:ss')`: string --> timestamp conversion\n",
    "    \n",
    "    - `FROM_UNIXTIME(1715925231, 'yyyy-MM-dd HH:mm:ss')`: epoch-time --> string\n",
    "    \n",
    "    - `DATE_FORMAT('2024-03-15 11:22:33', 'yyyy-MM-dd')`: timestamp --> string\n",
    "    \n",
    "    - `EXTRACT('DAY', '2024-03-15 11:22:33')`: date --> long\n",
    "    \n",
    "    - `TIMESTAMPDIFF('SECOND', '2024-03-15 11:22:33', '2024-03-15 22:33:44')`\n",
    "    \n",
    "    - `CURRENT_TIMESTAMP`\n",
    "    \n",
    "    - `TIMESTAMPADD('MONTH',2, '2024-03-15 11:22:33')`\n",
    "\n",
    "```sql\n",
    "CREATE TABLE subscriptions ( \n",
    "    id STRING,\n",
    "    start_date INT,\n",
    "    end_date INT,\n",
    "    payment_expiration TIMESTAMP(3)\n",
    ") WITH (\n",
    "  'connector' = 'faker',\n",
    "  'fields.id.expression' = '#{Internet.uuid}', \n",
    "  'fields.start_date.expression' = '#{number.numberBetween ''1576141834'',''1607764234''}',\n",
    "  'fields.end_date.expression' = '#{number.numberBetween ''1609060234'',''1639300234''}',\n",
    "  'fields.payment_expiration.expression' = '#{date.future ''365'',''DAYS''}'\n",
    ");\n",
    "\n",
    "SELECT \n",
    "  id,\n",
    "  TO_TIMESTAMP(FROM_UNIXTIME(start_date)) AS start_date,\n",
    "  TO_TIMESTAMP(FROM_UNIXTIME(end_date)) AS end_date,\n",
    "  DATE_FORMAT(payment_expiration,'YYYYww') AS exp_yweek,\n",
    "  EXTRACT(DAY FROM payment_expiration) AS exp_day,     --same as DAYOFMONTH(ts)\n",
    "  EXTRACT(MONTH FROM payment_expiration) AS exp_month, --same as MONTH(ts)\n",
    "  EXTRACT(YEAR FROM payment_expiration) AS exp_year    --same as YEAR(ts)\n",
    "FROM subscriptions\n",
    "WHERE \n",
    "  TIMESTAMPDIFF(DAY,CAST(CURRENT_TIMESTAMP AS TIMESTAMP(3)),payment_expiration) < 30;\n",
    "```"
   ]
  },
  {
   "cell_type": "markdown",
   "metadata": {},
   "source": [
    "## 2. Union "
   ]
  },
  {
   "cell_type": "markdown",
   "metadata": {},
   "source": [
    "- Works basically the same way as unions in regular SQL"
   ]
  },
  {
   "cell_type": "markdown",
   "metadata": {},
   "source": [
    "```sql\n",
    "CREATE TEMPORARY TABLE rickandmorty_visits ( \n",
    "    visitor STRING,\n",
    "    location STRING, \n",
    "    visit_time TIMESTAMP(3)\n",
    ") WITH (\n",
    "  'connector' = 'faker', \n",
    "  'fields.visitor.expression' = '#{RickAndMorty.character}',\n",
    "  'fields.location.expression' =  '#{RickAndMorty.location}',\n",
    "  'fields.visit_time.expression' =  '#{date.past ''15'',''5'',''SECONDS''}'\n",
    ");\n",
    "\n",
    "CREATE TEMPORARY TABLE spaceagency_visits ( \n",
    "    spacecraft STRING,\n",
    "    location STRING, \n",
    "    visit_time TIMESTAMP(3)\n",
    ") WITH (\n",
    "  'connector' = 'faker', \n",
    "  'fields.spacecraft.expression' = '#{Space.nasaSpaceCraft}',\n",
    "  'fields.location.expression' =  '#{Space.star}',\n",
    "  'fields.visit_time.expression' =  '#{date.past ''15'',''5'',''SECONDS''}'\n",
    ");\n",
    "\n",
    "CREATE TEMPORARY TABLE hitchhiker_visits ( \n",
    "    visitor STRING,\n",
    "    starship STRING,\n",
    "    location STRING, \n",
    "    visit_time TIMESTAMP(3)\n",
    ") WITH (\n",
    "  'connector' = 'faker', \n",
    "  'fields.visitor.expression' = '#{HitchhikersGuideToTheGalaxy.character}',\n",
    "  'fields.starship.expression' = '#{HitchhikersGuideToTheGalaxy.starship}',\n",
    "  'fields.location.expression' =  '#{HitchhikersGuideToTheGalaxy.location}',\n",
    "  'fields.visit_time.expression' =  '#{date.past ''15'',''5'',''SECONDS''}'\n",
    ");\n",
    "\n",
    "SELECT visitor, '' AS spacecraft, location, visit_time FROM rickandmorty_visits\n",
    "UNION ALL\n",
    "SELECT '' AS visitor, spacecraft, location, visit_time FROM spaceagency_visits\n",
    "UNION ALL\n",
    "SELECT visitor, starship AS spacecraft, location, visit_time FROM hitchhiker_visits;\n",
    "```"
   ]
  },
  {
   "cell_type": "markdown",
   "metadata": {},
   "source": [
    "## 3. Current Watermark"
   ]
  },
  {
   "cell_type": "markdown",
   "metadata": {},
   "source": [
    "- When defining a table in Flink, you need to define a `WATERMARK` attribute\n",
    "- This will be used by flink to "
   ]
  }
 ],
 "metadata": {
  "language_info": {
   "name": "python"
  }
 },
 "nbformat": 4,
 "nbformat_minor": 2
}
