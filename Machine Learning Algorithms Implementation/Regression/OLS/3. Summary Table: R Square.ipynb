{
 "cells": [
  {
   "cell_type": "markdown",
   "metadata": {},
   "source": [
    "## Understanding the OLS Summary Table"
   ]
  },
  {
   "cell_type": "markdown",
   "metadata": {},
   "source": [
    "- In the previous section, we showed theoretically and practically how we can derive a coefficient matrix $\\beta$, just from the objective function of minimising the mean squared error (MSE)\n",
    "\n",
    "- But you should notice something odd about our results. Our matrix algebra gave us only coefficient values\n",
    "\n",
    "- But the OLS table actually gives us so much more than this! \n",
    "\n",
    "- How can we derive every part of the OLS Summary table? Let's find out"
   ]
  },
  {
   "cell_type": "code",
   "execution_count": 11,
   "metadata": {},
   "outputs": [
    {
     "name": "stdout",
     "output_type": "stream",
     "text": [
      "(500, 6)\n",
      "[-0.16521089  0.2381359   0.00976686 60.45175552 26.46640238  4.8924384 ]\n",
      "==================================================\n"
     ]
    },
    {
     "data": {
      "text/html": [
       "<table class=\"simpletable\">\n",
       "<caption>OLS Regression Results</caption>\n",
       "<tr>\n",
       "  <th>Dep. Variable:</th>            <td>y</td>        <th>  R-squared:         </th> <td>   0.994</td> \n",
       "</tr>\n",
       "<tr>\n",
       "  <th>Model:</th>                   <td>OLS</td>       <th>  Adj. R-squared:    </th> <td>   0.994</td> \n",
       "</tr>\n",
       "<tr>\n",
       "  <th>Method:</th>             <td>Least Squares</td>  <th>  F-statistic:       </th> <td>1.775e+04</td>\n",
       "</tr>\n",
       "<tr>\n",
       "  <th>Date:</th>             <td>Sun, 06 Oct 2024</td> <th>  Prob (F-statistic):</th>  <td>  0.00</td>  \n",
       "</tr>\n",
       "<tr>\n",
       "  <th>Time:</th>                 <td>17:55:16</td>     <th>  Log-Likelihood:    </th> <td> -1508.0</td> \n",
       "</tr>\n",
       "<tr>\n",
       "  <th>No. Observations:</th>      <td>   500</td>      <th>  AIC:               </th> <td>   3028.</td> \n",
       "</tr>\n",
       "<tr>\n",
       "  <th>Df Residuals:</th>          <td>   494</td>      <th>  BIC:               </th> <td>   3053.</td> \n",
       "</tr>\n",
       "<tr>\n",
       "  <th>Df Model:</th>              <td>     5</td>      <th>                     </th>     <td> </td>    \n",
       "</tr>\n",
       "<tr>\n",
       "  <th>Covariance Type:</th>      <td>nonrobust</td>    <th>                     </th>     <td> </td>    \n",
       "</tr>\n",
       "</table>\n",
       "<table class=\"simpletable\">\n",
       "<tr>\n",
       "    <td></td>       <th>coef</th>     <th>std err</th>      <th>t</th>      <th>P>|t|</th>  <th>[0.025</th>    <th>0.975]</th>  \n",
       "</tr>\n",
       "<tr>\n",
       "  <th>x1</th>    <td>   -0.1652</td> <td>    0.233</td> <td>   -0.710</td> <td> 0.478</td> <td>   -0.622</td> <td>    0.292</td>\n",
       "</tr>\n",
       "<tr>\n",
       "  <th>x2</th>    <td>    0.2381</td> <td>    0.236</td> <td>    1.008</td> <td> 0.314</td> <td>   -0.226</td> <td>    0.702</td>\n",
       "</tr>\n",
       "<tr>\n",
       "  <th>x3</th>    <td>    0.0098</td> <td>    0.222</td> <td>    0.044</td> <td> 0.965</td> <td>   -0.426</td> <td>    0.445</td>\n",
       "</tr>\n",
       "<tr>\n",
       "  <th>x4</th>    <td>   60.4518</td> <td>    0.222</td> <td>  272.722</td> <td> 0.000</td> <td>   60.016</td> <td>   60.887</td>\n",
       "</tr>\n",
       "<tr>\n",
       "  <th>x5</th>    <td>   26.4664</td> <td>    0.227</td> <td>  116.601</td> <td> 0.000</td> <td>   26.020</td> <td>   26.912</td>\n",
       "</tr>\n",
       "<tr>\n",
       "  <th>const</th> <td>    4.8924</td> <td>    0.223</td> <td>   21.982</td> <td> 0.000</td> <td>    4.455</td> <td>    5.330</td>\n",
       "</tr>\n",
       "</table>\n",
       "<table class=\"simpletable\">\n",
       "<tr>\n",
       "  <th>Omnibus:</th>       <td> 1.207</td> <th>  Durbin-Watson:     </th> <td>   1.760</td>\n",
       "</tr>\n",
       "<tr>\n",
       "  <th>Prob(Omnibus):</th> <td> 0.547</td> <th>  Jarque-Bera (JB):  </th> <td>   1.202</td>\n",
       "</tr>\n",
       "<tr>\n",
       "  <th>Skew:</th>          <td> 0.028</td> <th>  Prob(JB):          </th> <td>   0.548</td>\n",
       "</tr>\n",
       "<tr>\n",
       "  <th>Kurtosis:</th>      <td> 2.766</td> <th>  Cond. No.          </th> <td>    1.11</td>\n",
       "</tr>\n",
       "</table><br/><br/>Notes:<br/>[1] Standard Errors assume that the covariance matrix of the errors is correctly specified."
      ],
      "text/latex": [
       "\\begin{center}\n",
       "\\begin{tabular}{lclc}\n",
       "\\toprule\n",
       "\\textbf{Dep. Variable:}    &        y         & \\textbf{  R-squared:         } &     0.994   \\\\\n",
       "\\textbf{Model:}            &       OLS        & \\textbf{  Adj. R-squared:    } &     0.994   \\\\\n",
       "\\textbf{Method:}           &  Least Squares   & \\textbf{  F-statistic:       } & 1.775e+04   \\\\\n",
       "\\textbf{Date:}             & Sun, 06 Oct 2024 & \\textbf{  Prob (F-statistic):} &     0.00    \\\\\n",
       "\\textbf{Time:}             &     17:55:16     & \\textbf{  Log-Likelihood:    } &   -1508.0   \\\\\n",
       "\\textbf{No. Observations:} &         500      & \\textbf{  AIC:               } &     3028.   \\\\\n",
       "\\textbf{Df Residuals:}     &         494      & \\textbf{  BIC:               } &     3053.   \\\\\n",
       "\\textbf{Df Model:}         &           5      & \\textbf{                     } &             \\\\\n",
       "\\textbf{Covariance Type:}  &    nonrobust     & \\textbf{                     } &             \\\\\n",
       "\\bottomrule\n",
       "\\end{tabular}\n",
       "\\begin{tabular}{lcccccc}\n",
       "               & \\textbf{coef} & \\textbf{std err} & \\textbf{t} & \\textbf{P$> |$t$|$} & \\textbf{[0.025} & \\textbf{0.975]}  \\\\\n",
       "\\midrule\n",
       "\\textbf{x1}    &      -0.1652  &        0.233     &    -0.710  &         0.478        &       -0.622    &        0.292     \\\\\n",
       "\\textbf{x2}    &       0.2381  &        0.236     &     1.008  &         0.314        &       -0.226    &        0.702     \\\\\n",
       "\\textbf{x3}    &       0.0098  &        0.222     &     0.044  &         0.965        &       -0.426    &        0.445     \\\\\n",
       "\\textbf{x4}    &      60.4518  &        0.222     &   272.722  &         0.000        &       60.016    &       60.887     \\\\\n",
       "\\textbf{x5}    &      26.4664  &        0.227     &   116.601  &         0.000        &       26.020    &       26.912     \\\\\n",
       "\\textbf{const} &       4.8924  &        0.223     &    21.982  &         0.000        &        4.455    &        5.330     \\\\\n",
       "\\bottomrule\n",
       "\\end{tabular}\n",
       "\\begin{tabular}{lclc}\n",
       "\\textbf{Omnibus:}       &  1.207 & \\textbf{  Durbin-Watson:     } &    1.760  \\\\\n",
       "\\textbf{Prob(Omnibus):} &  0.547 & \\textbf{  Jarque-Bera (JB):  } &    1.202  \\\\\n",
       "\\textbf{Skew:}          &  0.028 & \\textbf{  Prob(JB):          } &    0.548  \\\\\n",
       "\\textbf{Kurtosis:}      &  2.766 & \\textbf{  Cond. No.          } &     1.11  \\\\\n",
       "\\bottomrule\n",
       "\\end{tabular}\n",
       "%\\caption{OLS Regression Results}\n",
       "\\end{center}\n",
       "\n",
       "Notes: \\newline\n",
       " [1] Standard Errors assume that the covariance matrix of the errors is correctly specified."
      ],
      "text/plain": [
       "<class 'statsmodels.iolib.summary.Summary'>\n",
       "\"\"\"\n",
       "                            OLS Regression Results                            \n",
       "==============================================================================\n",
       "Dep. Variable:                      y   R-squared:                       0.994\n",
       "Model:                            OLS   Adj. R-squared:                  0.994\n",
       "Method:                 Least Squares   F-statistic:                 1.775e+04\n",
       "Date:                Sun, 06 Oct 2024   Prob (F-statistic):               0.00\n",
       "Time:                        17:55:16   Log-Likelihood:                -1508.0\n",
       "No. Observations:                 500   AIC:                             3028.\n",
       "Df Residuals:                     494   BIC:                             3053.\n",
       "Df Model:                           5                                         \n",
       "Covariance Type:            nonrobust                                         \n",
       "==============================================================================\n",
       "                 coef    std err          t      P>|t|      [0.025      0.975]\n",
       "------------------------------------------------------------------------------\n",
       "x1            -0.1652      0.233     -0.710      0.478      -0.622       0.292\n",
       "x2             0.2381      0.236      1.008      0.314      -0.226       0.702\n",
       "x3             0.0098      0.222      0.044      0.965      -0.426       0.445\n",
       "x4            60.4518      0.222    272.722      0.000      60.016      60.887\n",
       "x5            26.4664      0.227    116.601      0.000      26.020      26.912\n",
       "const          4.8924      0.223     21.982      0.000       4.455       5.330\n",
       "==============================================================================\n",
       "Omnibus:                        1.207   Durbin-Watson:                   1.760\n",
       "Prob(Omnibus):                  0.547   Jarque-Bera (JB):                1.202\n",
       "Skew:                           0.028   Prob(JB):                        0.548\n",
       "Kurtosis:                       2.766   Cond. No.                         1.11\n",
       "==============================================================================\n",
       "\n",
       "Notes:\n",
       "[1] Standard Errors assume that the covariance matrix of the errors is correctly specified.\n",
       "\"\"\""
      ]
     },
     "execution_count": 11,
     "metadata": {},
     "output_type": "execute_result"
    }
   ],
   "source": [
    "import pandas as pd\n",
    "import numpy as np\n",
    "from sklearn.datasets import make_regression\n",
    "# import statsmodels.formula.api as smf\n",
    "import statsmodels.api as sm\n",
    "\n",
    "x,y = make_regression(\n",
    "    n_samples=500, \n",
    "    n_features=5, \n",
    "    n_informative=2, \n",
    "    n_targets=1, \n",
    "    noise=5, \n",
    "    bias=5,\n",
    "    random_state=123\n",
    ")\n",
    "x = np.append(x, np.ones((500,1)), axis = 1)\n",
    "print(x.shape)\n",
    "\n",
    "betas = np.linalg.inv((x.transpose() @ x)) @ x.transpose() @ y\n",
    "np.set_printoptions(suppress=True)\n",
    "print(betas)\n",
    "\n",
    "print('='*50)\n",
    "res = sm.OLS(exog=x, endog=y, hasconst=True).fit()\n",
    "res.summary()"
   ]
  },
  {
   "cell_type": "markdown",
   "metadata": {},
   "source": [
    "### $R^2$"
   ]
  },
  {
   "cell_type": "markdown",
   "metadata": {},
   "source": [
    "- $R^2$ measures the \"goodness of fit\" of the regression\n",
    "- That is, how much of the deviation from the outcome mean $\\bar{y}$ does my model predict? \n",
    "$$R^2 = 1 - \\frac{RSS}{TSS} = \\frac{ESS}{TSS}$$"
   ]
  },
  {
   "cell_type": "markdown",
   "metadata": {},
   "source": [
    "#### Concepts: TSS, RSS, ESS"
   ]
  },
  {
   "cell_type": "markdown",
   "metadata": {},
   "source": [
    "- Before understanding $R^2$, let's first go through the constituent concepts\n",
    "    - **Total Sum of Squares (TSS):** \n",
    "        - The sum of squared differences between the observations $y_i$ and their overall mean value $\\bar{y}$ \n",
    "        - This is a measure of the variability of the data around its own mean; the more dispersed the data is, the larger this measure will be\n",
    "        - $\\sum_i (y_i - \\bar{y})^2$\n",
    "    \n",
    "    - **Model/Explained Sum of Squares (MSS/ESS):** \n",
    "        - The sum of squared differences between the predictions $\\hat{y_i}$ and the mean values $\\bar{y}$ \n",
    "        - Of the total sum of squares for a point $i$, how much of it is accounted for by the model?\n",
    "        - $\\sum_i (\\hat{y_i} - \\bar{y})^2$\n",
    "\n",
    "    - **Residual Sum of Squares (RSS):** \n",
    "        - The sum of squared differences between the observations $y_i$ and the predicted values $\\hat{y_i}$ \n",
    "        - Of the total sum of squares for a point $i$, how much of it is missed by the model?\n",
    "        - $\\sum_i (y_i - \\hat{y_i})^2$\n",
    "\n",
    "- Intuitively, **TSS** is a measure of the variation between the observations and their average value\n",
    "    - The model, if well fitted, should explain some part of this variation. That is; the predictions provided by the model should do better than predicting the \"average\" value of the outcome\n",
    "    - How do we measure \"predicts better than the average value\"?\n",
    "    - Simple! \n",
    "        - Find all the squared differences between the outcomes and their average i.e. $\\sum_i (y_i - \\bar{y})^2$\n",
    "        - Find all the squared differences between the outcomes and the model's predictions i.e. $\\sum_i (y_i - \\hat{y})^2$\n",
    "        - If the second term is smaller than the first, that must mean that the model's predictions have reduced the variation in the observed data!\n",
    "    - This corresponds exactly to **TSS** and **RSS**!\n",
    "    \n",
    "- Since **TSS** represents all possible variation, and **RSS** represents the leftover variation after a model is applied, what is the measure of the variation accounted for by the model? Simple, just take the difference of the 2!\n",
    "$$\\begin{aligned}\n",
    "    \\text{TSS} &= \\sum_i (y_i - \\bar{y})^2 \\\\\n",
    "    \\text{RSS} &= \\sum_i (y_i - \\hat{y})^2 \\\\\n",
    "    \\text{ESS} &= \\sum_i (y_i - \\bar{y} - (y_i - \\hat{y}))^2 \\\\\n",
    "    &= \\sum_i (\\hat{y}- \\bar{y})^2\n",
    "\\end{aligned}$$"
   ]
  },
  {
   "cell_type": "markdown",
   "metadata": {},
   "source": [
    "- Visually, we can see it this way"
   ]
  },
  {
   "cell_type": "code",
   "execution_count": 109,
   "metadata": {},
   "outputs": [
    {
     "data": {
      "text/plain": [
       "Text(10, 6, 'RSS')"
      ]
     },
     "execution_count": 109,
     "metadata": {},
     "output_type": "execute_result"
    },
    {
     "data": {
      "image/png": "[encoded data removed]",
      "text/plain": [
       "<Figure size 640x480 with 1 Axes>"
      ]
     },
     "metadata": {},
     "output_type": "display_data"
    }
   ],
   "source": [
    "import matplotlib.pyplot as plt\n",
    "import random\n",
    "import numpy as np\n",
    "\n",
    "x = [45, 47, 17, 12, 36]\n",
    "y = [53, 46, 5, 12, 37]\n",
    "index=2\n",
    "\n",
    "xarr = np.array(x).reshape(-1,1)\n",
    "xarr = np.concat([xarr, np.ones(len(x)).reshape(-1,1)], axis=1)\n",
    "yarr = np.array(y).reshape(1,-1)\n",
    "\n",
    "beta = np.linalg.inv(xarr.T @ xarr) @ xarr.T @ y\n",
    "linevals = np.array([x for x in range(-5,55)]).reshape(-1,1)\n",
    "linevals = np.concat([linevals, np.ones(len(linevals)).reshape(-1,1)], axis=1)\n",
    "ypred = linevals @ beta.T\n",
    "\n",
    "plt.scatter(x,y,alpha=0.5,s=30)\n",
    "plt.plot(range(-5, 55), ypred)\n",
    "\n",
    "plt.hlines(y=np.mean(y),xmin=-10,xmax=60, color='orange')\n",
    "plt.xlim(-5,55)\n",
    "\n",
    "plt.arrow(\n",
    "    x=x[index], \n",
    "    y=y[index], \n",
    "    dx=0, \n",
    "    dy=np.mean(y)-y[index],\n",
    "    length_includes_head=True,\n",
    "    head_width=1,\n",
    "    color='black'\n",
    ")\n",
    "\n",
    "plt.arrow(\n",
    "    x=x[index]-2, \n",
    "    y=ypred[x[index]+5], \n",
    "    dx=0, \n",
    "    dy=np.mean(y)-ypred[x[index]+5],\n",
    "    length_includes_head=True,\n",
    "    head_width=1,\n",
    "    color='brown'\n",
    ")\n",
    "\n",
    "plt.arrow(\n",
    "    x=x[index]-2, \n",
    "    y=y[index], \n",
    "    dx=0, \n",
    "    dy=ypred[x[index]+5] - y[index],\n",
    "    length_includes_head=True,\n",
    "    head_width=1,\n",
    "    color='green'\n",
    ")\n",
    "\n",
    "plt.text(\n",
    "    x=x[index] + 2, \n",
    "    y=y[index] + 5, \n",
    "    s='TSS'\n",
    ")\n",
    "\n",
    "plt.text(\n",
    "    x=x[index] - 10, \n",
    "    y=y[index] + 15, \n",
    "    s='MSS/ESS',\n",
    "    color='brown'\n",
    ")\n",
    "\n",
    "plt.text(\n",
    "    x=x[index] - 7, \n",
    "    y=y[index] + 1, \n",
    "    s='RSS',\n",
    "    color='green'\n",
    ")"
   ]
  },
  {
   "cell_type": "markdown",
   "metadata": {},
   "source": [
    "#### Deep Dive: Prove that TSS = RSS + ESS"
   ]
  },
  {
   "cell_type": "markdown",
   "metadata": {},
   "source": [
    "- Wait a second; from the math above, it is only true that \n",
    "$$\\begin{aligned}\n",
    "    y_i - \\bar{y} &= y_i - \\hat{y} + \\hat{y} - \\bar{y}\n",
    "\\end{aligned}$$\n",
    "\n",
    "- How do we know that the squared terms are still equal? i.e. how do we know that this is true:\n",
    "$$\\begin{aligned}\n",
    "    \\text{Prove: }\\sum_i (y_i - \\bar{y})^2 &= \\sum_i (y_i - \\hat{y})^2 + \\sum_i (\\hat{y} - \\bar{y})^2 \\qquad (1)\n",
    "\\end{aligned}$$\n",
    "\n",
    "- Let's start from scratch:\n",
    "$$\\begin{aligned}\n",
    "    \\sum_i (y_i - \\bar{y}) &= \\sum_i [(y_i - \\hat{y}) + (\\hat{y} - \\bar{y})] \\\\\n",
    "    \\sum_i (y_i - \\bar{y})^2 &= \\sum_i (y_i - \\hat{y})^2 + \\sum_i (\\hat{y} - \\bar{y})^2 + \\sum_i 2 \\cdot (\\hat{y} - \\bar{y}) \\cdot (y_i - \\hat{y})\n",
    "\\end{aligned}$$\n",
    "\n",
    "- From the above, for the statement $(1)$ to be true, it implies that \n",
    "$$\\begin{aligned}\n",
    "    \\sum_i 2 \\cdot (\\hat{y} - \\bar{y}) \\cdot (y_i - \\hat{y}) &= 0 \\\\\n",
    "    \\sum_i (\\hat{y} - \\bar{y}) \\cdot e_i &= 0 & \\because y_i - \\hat{y} = e_i \\\\\n",
    "    \\sum_i \\hat{y} e_i - \\sum_i \\bar{y} e_i &= 0\n",
    "\\end{aligned}$$\n",
    "\n",
    "- Of the two terms above, we know that $\\sum_i \\bar{y} e_i = 0$\n",
    "$$\\begin{aligned}\n",
    "    \\sum_i \\bar{y} e_i &= \\bar{y} \\sum_i e_i & \\because \\bar{y} \\text{ is constant} \\\\\n",
    "    &= \\sum_i e_i \\\\\n",
    "    &= 0 & \\because \\text{sum of errors is mean centered at 0}\n",
    "\\end{aligned}$$\n",
    "\n",
    "- We also know that $\\sum_i \\hat{y} e_i = 0$\n",
    "    - **SEE NEXT SECTION FOR REASONING**\n",
    "\n",
    "- Therefore, $\\sum_i \\hat{y} e_i - \\sum_i \\bar{y} e_i = 0$, which implies:\n",
    "$$\\begin{aligned}\n",
    "    \\sum_i (y_i - \\bar{y})^2 &= \\sum_i (y_i - \\hat{y})^2 + \\sum_i (\\hat{y} - \\bar{y})^2 + \\sum_i 2 \\cdot (\\hat{y} - \\bar{y}) \\cdot (y_i - \\hat{y}) \\\\\n",
    "    &= \\sum_i (y_i - \\hat{y})^2 + \\sum_i (\\hat{y} - \\bar{y})^2 \\\\ \\\\\n",
    "\n",
    "    \\therefore TSS &= RSS + ESS\n",
    "\\end{aligned}$$\n"
   ]
  },
  {
   "cell_type": "markdown",
   "metadata": {},
   "source": [
    "#### Deep Dive 2: Prove that $\\sum_i \\hat{y_i} e_i = 0$"
   ]
  },
  {
   "cell_type": "markdown",
   "metadata": {},
   "source": [
    "- First, note that $e_i = y_i - \\hat{y}_i$\n",
    "- In OLS, recall that we are minimising the sum of squared errors. That is, we minimise RSS\n",
    "$$\\begin{aligned}\n",
    "    \\argmin_\\beta \\sum_{i=1}^{n} e_i^2 &= \\argmin_\\beta \\sum_{i=1}^{n} (y_i - \\hat{y}_i)^2 \\\\\n",
    "    &= \\argmin_\\beta RSS\n",
    "\\end{aligned}$$\n",
    "\n",
    "- Recall that in doing this minimisation, we adjust coefficients to $\\beta^*$, such that $\\hat{y}_i = X_i \\beta^*$\n",
    "\n",
    "- Let's rewrite RSS in terms of $\\beta$\n",
    "$$\\begin{aligned}\n",
    "    RSS &= \\sum_{i=1}^{n} e_i^2 \\\\\n",
    "    &= \\sum_{i=1}^{n} (y_i - \\hat{y}_i)^2 \\\\\n",
    "    &= \\sum_{i=1}^{n} (y_i - X_i \\beta)^2 \\\\\n",
    "\\end{aligned}$$\n",
    "\n",
    "- To get rid of the summation, let's rewrite this in vector notation\n",
    "$$\\begin{aligned}\n",
    "    RSS &= \\sum_{i=1}^{n} (y_i - X_i \\beta)^2 \\\\\n",
    "    &= (y - X \\beta)^T (y - X \\beta)\n",
    "\\end{aligned}$$\n",
    "\n",
    "- Next, to minimise RSS w.r.t to $\\beta$, we solve for \n",
    "$$\\begin{aligned}\n",
    "    \\frac{\\partial RSS}{\\partial \\beta} &= \\frac{\\partial }{\\partial \\beta} [(y - X \\beta)^T (y - X \\beta)] \\\\\n",
    "    &= \\frac{\\partial}{\\partial \\beta} [y^Ty] - \\frac{\\partial}{\\partial \\beta} [(X\\beta)^T y] - \\frac{\\partial}{\\partial \\beta} [y^T (X\\beta)] + \\frac{\\partial}{\\partial \\beta} (\\beta^T X^T X \\beta) \\\\\n",
    "    &= -2 \\frac{\\partial}{\\partial \\beta} [(X\\beta)^T y] + \\frac{\\partial}{\\partial \\beta} (\\beta^T X^T X \\beta) \\\\\n",
    "    &= -2 \\frac{\\partial}{\\partial \\beta} [\\beta^T X^T y] + \\frac{\\partial}{\\partial \\beta} (\\beta^T X^T X \\beta) \\\\\n",
    "    &= -2 X^T y + 2 (X^T X \\beta) \\\\\n",
    "    &= -2 X^T (y - X\\beta) \\\\\n",
    "    &= -2 X^T (y - \\hat{y}) \\\\\n",
    "    &= -2 X^T e \\\\\n",
    "    &= 0\n",
    "\\end{aligned}$$\n",
    "\n",
    "- What is the intuition of this result?\n",
    "    - For any design matrix $X$, we want it to be orthogonal to the errors from the regression\n",
    "    - That is, any errors from the regression must not be correlated with the values $X$!!\n",
    "\n",
    "- Ok, but how does that lead to the conclusion that $\\sum_i \\hat{y_i} e_i = \\hat{y} e= 0$?\n",
    "$$\\begin{aligned}\n",
    "    X^Te &= 0 \\\\\n",
    "    \\beta^T X^Te &= \\beta^T \\cdot 0 \\\\\n",
    "    (X \\beta)^T e &= 0 \\\\\n",
    "    \\therefore \\hat{y} e = 0\n",
    "\\end{aligned}$$"
   ]
  },
  {
   "cell_type": "markdown",
   "metadata": {},
   "source": [
    "#### Tying back to $R^2$"
   ]
  },
  {
   "cell_type": "markdown",
   "metadata": {},
   "source": [
    "- So far we have established that:\n",
    "    - TSS is the variation of the outcome around its mean value\n",
    "    - RSS is the variation left after subtracting the predicted outcome from the observed outcomes \n",
    "    - TSS = RSS + ESS\n",
    "\n",
    "- Intuitively, if TSS measures the natural variation of the outcome variable, and RSS measures the leftover variation after modelling, then $\\frac{RSS}{TSS}$ must intuitively be the proportion of the variation unexplained by the model!\n",
    "    - Therefore, $R^2 = 1 - \\frac{RSS}{TSS} = \\frac{ESS}{TSS}$, which is the proportion of variation explained by the model!"
   ]
  },
  {
   "cell_type": "markdown",
   "metadata": {},
   "source": [
    "- Let's try to derive the values we see in the table"
   ]
  },
  {
   "cell_type": "code",
   "execution_count": 13,
   "metadata": {},
   "outputs": [
    {
     "name": "stdout",
     "output_type": "stream",
     "text": [
      "ess + rss=np.float64(2202799.20978951)\n",
      "tss=np.float64(2202799.209789509)\n",
      "r2=np.float64(0.9944631472698778)\n",
      "r2=np.float64(0.9944631472698783)\n"
     ]
    }
   ],
   "source": [
    "ypred = x @ betas\n",
    "tss = np.sum((y - np.mean(y))**2)\n",
    "rss = np.sum((y - ypred)**2)\n",
    "ess = np.sum((ypred - np.mean(y))**2)\n",
    "\n",
    "## ESS + RSS = TSS\n",
    "print(f\"{ess + rss=}\")\n",
    "print(f\"{tss=}\")\n",
    "\n",
    "## Compute R^2 = 0.994\n",
    "r2 = 1 - (rss/tss)\n",
    "print(f\"{r2=}\")\n",
    "\n",
    "r2 = (ess/tss)\n",
    "print(f\"{r2=}\")"
   ]
  },
  {
   "cell_type": "markdown",
   "metadata": {},
   "source": [
    "#### Adjusted $R^2$"
   ]
  },
  {
   "cell_type": "markdown",
   "metadata": {},
   "source": [
    "- Adjusted $R^2$ is the same as $R^2$, but we adjust both TSS and RSS by the available degrees of freedom used to get the sum of squares\n",
    "\n",
    "$$\\begin{aligned}\n",
    "    \\text{Adj.} R^2 &= 1 - \\frac{\\frac{RSS}{n-k-1}}{\\frac{TSS}{n-1}} \\\\\n",
    "    &= 1 - \\frac{\\frac{RSS}{TSS}}{\\frac{n-1}{n-k-1}} \\\\\n",
    "    &= 1 - [(1 - R^2) \\cdot \\frac{n-1}{n-k-1}] & \\because \\frac{RSS}{TSS} = 1 - R^2 \\\\\n",
    "\\end{aligned}$$"
   ]
  },
  {
   "cell_type": "code",
   "execution_count": 16,
   "metadata": {},
   "outputs": [
    {
     "name": "stdout",
     "output_type": "stream",
     "text": [
      "ess + rss=np.float64(2202799.20978951)\n",
      "tss=np.float64(2202799.209789509)\n",
      "r2=np.float64(0.9944631472698778)\n",
      "adj_r2=np.float64(0.9943957616382739)\n"
     ]
    }
   ],
   "source": [
    "ypred = x @ betas\n",
    "tss = np.sum((y - np.mean(y))**2)\n",
    "rss = np.sum((y - ypred)**2)\n",
    "ess = np.sum((ypred - np.mean(y))**2)\n",
    "\n",
    "## ESS + RSS = TSS\n",
    "print(f\"{ess + rss=}\")\n",
    "print(f\"{tss=}\")\n",
    "\n",
    "## Compute R^2 = 0.994\n",
    "r2 = 1 - (rss/tss)\n",
    "print(f\"{r2=}\")\n",
    "\n",
    "adj_r2 = 1 - ((rss / (x.shape[0] - x.shape[1] - 1)) / (tss / (x.shape[0]-1)))\n",
    "print(f\"{adj_r2=}\")"
   ]
  }
 ],
 "metadata": {
  "kernelspec": {
   "display_name": "data-science-SgH_SThs-py3.12",
   "language": "python",
   "name": "python3"
  },
  "language_info": {
   "codemirror_mode": {
    "name": "ipython",
    "version": 3
   },
   "file_extension": ".py",
   "mimetype": "text/x-python",
   "name": "python",
   "nbconvert_exporter": "python",
   "pygments_lexer": "ipython3",
   "version": "3.12.6"
  }
 },
 "nbformat": 4,
 "nbformat_minor": 2
}
