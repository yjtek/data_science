{
 "cells": [
  {
   "cell_type": "markdown",
   "metadata": {},
   "source": [
    "## Isotonic Regression"
   ]
  },
  {
   "cell_type": "markdown",
   "metadata": {},
   "source": [
    "- PAVA Algorithm\n",
    "\n",
    "- General idea\n",
    "    - Sort the instances and labels in the validation set based on the raw scores\n",
    "        - i.e. [0.8, 0.5, 0.9, 0.2], [1, 1, 0, 0] ==> [0.2, 0.5, 0.8, 0.9], [0, 1, 1, 0]\n",
    "    - Initialize the isotonic regression function as the identity function, where the initial predicted probabilities are equal to the raw scores\n",
    "    - Iteratively update the isotonic regression function by adjusting the predicted probabilities to minimize the squared differences between the predicted probabilities and the target probabilities. This adjustment is subject to the constraint of non-decreasing probabilities.\n",
    "        - In example above, we start with [0.2, 0.5, 0.8, 0.9]\n",
    "        - 0.2 has label 0, so we may adjust this downwards\n",
    "        - 0.5 has label 1, and 0.5 exceeds 0.2, so we may adjust this upwards such that it does not exceed 0.8\n",
    "        - 0.8 has label 1, and 0.8 exceeds 0.5, so we may adjust this upwards such that it does not exceed 0.9\n",
    "        - 0.9 has label 0, so we want to adjust it downwards such that it does not exceed 0.8\n",
    "    - Once you have the isotonic regression, basically you have this piecewise line that maps predicted probabilities to the \"correct\" value, and ensures the piecewise line only increases"
   ]
  }
 ],
 "metadata": {
  "language_info": {
   "name": "python"
  }
 },
 "nbformat": 4,
 "nbformat_minor": 2
}
